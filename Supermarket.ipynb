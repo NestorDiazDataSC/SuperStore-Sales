{
 "cells": [
  {
   "cell_type": "code",
   "execution_count": 1,
   "id": "45d35e58",
   "metadata": {},
   "outputs": [],
   "source": [
    "import numpy as np   # Importamos librerias de calculo\n",
    "import pandas as pd  # Importamos librerias de uso de tablas o dataframes\n",
    "import sklearn\n",
    "%matplotlib inline\n",
    "import matplotlib.pyplot as plt\n",
    "import seaborn as sns\n",
    "\n",
    "df = pd.read_csv(\"Superstore.csv\")  # Leer el archivo\n"
   ]
  },
  {
   "cell_type": "code",
   "execution_count": 2,
   "id": "4091004d",
   "metadata": {},
   "outputs": [
    {
     "data": {
      "text/html": [
       "<div>\n",
       "<style scoped>\n",
       "    .dataframe tbody tr th:only-of-type {\n",
       "        vertical-align: middle;\n",
       "    }\n",
       "\n",
       "    .dataframe tbody tr th {\n",
       "        vertical-align: top;\n",
       "    }\n",
       "\n",
       "    .dataframe thead th {\n",
       "        text-align: right;\n",
       "    }\n",
       "</style>\n",
       "<table border=\"1\" class=\"dataframe\">\n",
       "  <thead>\n",
       "    <tr style=\"text-align: right;\">\n",
       "      <th></th>\n",
       "      <th>Row ID</th>\n",
       "      <th>Order ID</th>\n",
       "      <th>Order Date</th>\n",
       "      <th>Ship Date</th>\n",
       "      <th>Ship Mode</th>\n",
       "      <th>Customer ID</th>\n",
       "      <th>Customer Name</th>\n",
       "      <th>Segment</th>\n",
       "      <th>Country</th>\n",
       "      <th>City</th>\n",
       "      <th>...</th>\n",
       "      <th>Postal Code</th>\n",
       "      <th>Region</th>\n",
       "      <th>Product ID</th>\n",
       "      <th>Category</th>\n",
       "      <th>Sub-Category</th>\n",
       "      <th>Product Name</th>\n",
       "      <th>Sales</th>\n",
       "      <th>Quantity</th>\n",
       "      <th>Discount</th>\n",
       "      <th>Profit</th>\n",
       "    </tr>\n",
       "  </thead>\n",
       "  <tbody>\n",
       "    <tr>\n",
       "      <th>0</th>\n",
       "      <td>1</td>\n",
       "      <td>CA-2016-152156</td>\n",
       "      <td>11/8/2016</td>\n",
       "      <td>11/11/2016</td>\n",
       "      <td>Second Class</td>\n",
       "      <td>CG-12520</td>\n",
       "      <td>Claire Gute</td>\n",
       "      <td>Consumer</td>\n",
       "      <td>United States</td>\n",
       "      <td>Henderson</td>\n",
       "      <td>...</td>\n",
       "      <td>42420</td>\n",
       "      <td>South</td>\n",
       "      <td>FUR-BO-10001798</td>\n",
       "      <td>Furniture</td>\n",
       "      <td>Bookcases</td>\n",
       "      <td>Bush Somerset Collection Bookcase</td>\n",
       "      <td>261.9600</td>\n",
       "      <td>2</td>\n",
       "      <td>0.00</td>\n",
       "      <td>41.9136</td>\n",
       "    </tr>\n",
       "    <tr>\n",
       "      <th>1</th>\n",
       "      <td>2</td>\n",
       "      <td>CA-2016-152156</td>\n",
       "      <td>11/8/2016</td>\n",
       "      <td>11/11/2016</td>\n",
       "      <td>Second Class</td>\n",
       "      <td>CG-12520</td>\n",
       "      <td>Claire Gute</td>\n",
       "      <td>Consumer</td>\n",
       "      <td>United States</td>\n",
       "      <td>Henderson</td>\n",
       "      <td>...</td>\n",
       "      <td>42420</td>\n",
       "      <td>South</td>\n",
       "      <td>FUR-CH-10000454</td>\n",
       "      <td>Furniture</td>\n",
       "      <td>Chairs</td>\n",
       "      <td>Hon Deluxe Fabric Upholstered Stacking Chairs,...</td>\n",
       "      <td>731.9400</td>\n",
       "      <td>3</td>\n",
       "      <td>0.00</td>\n",
       "      <td>219.5820</td>\n",
       "    </tr>\n",
       "    <tr>\n",
       "      <th>2</th>\n",
       "      <td>3</td>\n",
       "      <td>CA-2016-138688</td>\n",
       "      <td>6/12/2016</td>\n",
       "      <td>6/16/2016</td>\n",
       "      <td>Second Class</td>\n",
       "      <td>DV-13045</td>\n",
       "      <td>Darrin Van Huff</td>\n",
       "      <td>Corporate</td>\n",
       "      <td>United States</td>\n",
       "      <td>Los Angeles</td>\n",
       "      <td>...</td>\n",
       "      <td>90036</td>\n",
       "      <td>West</td>\n",
       "      <td>OFF-LA-10000240</td>\n",
       "      <td>Office Supplies</td>\n",
       "      <td>Labels</td>\n",
       "      <td>Self-Adhesive Address Labels for Typewriters b...</td>\n",
       "      <td>14.6200</td>\n",
       "      <td>2</td>\n",
       "      <td>0.00</td>\n",
       "      <td>6.8714</td>\n",
       "    </tr>\n",
       "    <tr>\n",
       "      <th>3</th>\n",
       "      <td>4</td>\n",
       "      <td>US-2015-108966</td>\n",
       "      <td>10/11/2015</td>\n",
       "      <td>10/18/2015</td>\n",
       "      <td>Standard Class</td>\n",
       "      <td>SO-20335</td>\n",
       "      <td>Sean O'Donnell</td>\n",
       "      <td>Consumer</td>\n",
       "      <td>United States</td>\n",
       "      <td>Fort Lauderdale</td>\n",
       "      <td>...</td>\n",
       "      <td>33311</td>\n",
       "      <td>South</td>\n",
       "      <td>FUR-TA-10000577</td>\n",
       "      <td>Furniture</td>\n",
       "      <td>Tables</td>\n",
       "      <td>Bretford CR4500 Series Slim Rectangular Table</td>\n",
       "      <td>957.5775</td>\n",
       "      <td>5</td>\n",
       "      <td>0.45</td>\n",
       "      <td>-383.0310</td>\n",
       "    </tr>\n",
       "    <tr>\n",
       "      <th>4</th>\n",
       "      <td>5</td>\n",
       "      <td>US-2015-108966</td>\n",
       "      <td>10/11/2015</td>\n",
       "      <td>10/18/2015</td>\n",
       "      <td>Standard Class</td>\n",
       "      <td>SO-20335</td>\n",
       "      <td>Sean O'Donnell</td>\n",
       "      <td>Consumer</td>\n",
       "      <td>United States</td>\n",
       "      <td>Fort Lauderdale</td>\n",
       "      <td>...</td>\n",
       "      <td>33311</td>\n",
       "      <td>South</td>\n",
       "      <td>OFF-ST-10000760</td>\n",
       "      <td>Office Supplies</td>\n",
       "      <td>Storage</td>\n",
       "      <td>Eldon Fold 'N Roll Cart System</td>\n",
       "      <td>22.3680</td>\n",
       "      <td>2</td>\n",
       "      <td>0.20</td>\n",
       "      <td>2.5164</td>\n",
       "    </tr>\n",
       "  </tbody>\n",
       "</table>\n",
       "<p>5 rows × 21 columns</p>\n",
       "</div>"
      ],
      "text/plain": [
       "   Row ID        Order ID  Order Date   Ship Date       Ship Mode Customer ID  \\\n",
       "0       1  CA-2016-152156   11/8/2016  11/11/2016    Second Class    CG-12520   \n",
       "1       2  CA-2016-152156   11/8/2016  11/11/2016    Second Class    CG-12520   \n",
       "2       3  CA-2016-138688   6/12/2016   6/16/2016    Second Class    DV-13045   \n",
       "3       4  US-2015-108966  10/11/2015  10/18/2015  Standard Class    SO-20335   \n",
       "4       5  US-2015-108966  10/11/2015  10/18/2015  Standard Class    SO-20335   \n",
       "\n",
       "     Customer Name    Segment        Country             City  ...  \\\n",
       "0      Claire Gute   Consumer  United States        Henderson  ...   \n",
       "1      Claire Gute   Consumer  United States        Henderson  ...   \n",
       "2  Darrin Van Huff  Corporate  United States      Los Angeles  ...   \n",
       "3   Sean O'Donnell   Consumer  United States  Fort Lauderdale  ...   \n",
       "4   Sean O'Donnell   Consumer  United States  Fort Lauderdale  ...   \n",
       "\n",
       "  Postal Code  Region       Product ID         Category Sub-Category  \\\n",
       "0       42420   South  FUR-BO-10001798        Furniture    Bookcases   \n",
       "1       42420   South  FUR-CH-10000454        Furniture       Chairs   \n",
       "2       90036    West  OFF-LA-10000240  Office Supplies       Labels   \n",
       "3       33311   South  FUR-TA-10000577        Furniture       Tables   \n",
       "4       33311   South  OFF-ST-10000760  Office Supplies      Storage   \n",
       "\n",
       "                                        Product Name     Sales  Quantity  \\\n",
       "0                  Bush Somerset Collection Bookcase  261.9600         2   \n",
       "1  Hon Deluxe Fabric Upholstered Stacking Chairs,...  731.9400         3   \n",
       "2  Self-Adhesive Address Labels for Typewriters b...   14.6200         2   \n",
       "3      Bretford CR4500 Series Slim Rectangular Table  957.5775         5   \n",
       "4                     Eldon Fold 'N Roll Cart System   22.3680         2   \n",
       "\n",
       "   Discount    Profit  \n",
       "0      0.00   41.9136  \n",
       "1      0.00  219.5820  \n",
       "2      0.00    6.8714  \n",
       "3      0.45 -383.0310  \n",
       "4      0.20    2.5164  \n",
       "\n",
       "[5 rows x 21 columns]"
      ]
     },
     "execution_count": 2,
     "metadata": {},
     "output_type": "execute_result"
    }
   ],
   "source": [
    "df.head() # Para ver como se compone la base de datos."
   ]
  },
  {
   "cell_type": "code",
   "execution_count": 3,
   "id": "f98a2fac",
   "metadata": {},
   "outputs": [],
   "source": [
    "df.drop(['Row ID', 'Order ID', 'Customer ID', 'Country', 'Postal Code', 'Ship Date', 'Order Date'], axis = 'columns', inplace=True) \n",
    "# Eliminamos columnas que no vamos a utilizar en el analisis"
   ]
  },
  {
   "cell_type": "code",
   "execution_count": 4,
   "id": "27f74773",
   "metadata": {},
   "outputs": [
    {
     "data": {
      "text/html": [
       "<div>\n",
       "<style scoped>\n",
       "    .dataframe tbody tr th:only-of-type {\n",
       "        vertical-align: middle;\n",
       "    }\n",
       "\n",
       "    .dataframe tbody tr th {\n",
       "        vertical-align: top;\n",
       "    }\n",
       "\n",
       "    .dataframe thead th {\n",
       "        text-align: right;\n",
       "    }\n",
       "</style>\n",
       "<table border=\"1\" class=\"dataframe\">\n",
       "  <thead>\n",
       "    <tr style=\"text-align: right;\">\n",
       "      <th></th>\n",
       "      <th>Ship Mode</th>\n",
       "      <th>Customer Name</th>\n",
       "      <th>Segment</th>\n",
       "      <th>City</th>\n",
       "      <th>State</th>\n",
       "      <th>Region</th>\n",
       "      <th>Product ID</th>\n",
       "      <th>Category</th>\n",
       "      <th>Sub-Category</th>\n",
       "      <th>Product Name</th>\n",
       "      <th>Sales</th>\n",
       "      <th>Quantity</th>\n",
       "      <th>Discount</th>\n",
       "      <th>Profit</th>\n",
       "    </tr>\n",
       "  </thead>\n",
       "  <tbody>\n",
       "    <tr>\n",
       "      <th>5183</th>\n",
       "      <td>First Class</td>\n",
       "      <td>Anna Gayman</td>\n",
       "      <td>Consumer</td>\n",
       "      <td>Columbus</td>\n",
       "      <td>Georgia</td>\n",
       "      <td>South</td>\n",
       "      <td>OFF-ST-10000885</td>\n",
       "      <td>Office Supplies</td>\n",
       "      <td>Storage</td>\n",
       "      <td>Fellowes Desktop Hanging File Manager</td>\n",
       "      <td>40.29</td>\n",
       "      <td>3</td>\n",
       "      <td>0.0</td>\n",
       "      <td>10.0725</td>\n",
       "    </tr>\n",
       "    <tr>\n",
       "      <th>9741</th>\n",
       "      <td>Standard Class</td>\n",
       "      <td>Quincy Jones</td>\n",
       "      <td>Corporate</td>\n",
       "      <td>Burlington</td>\n",
       "      <td>Vermont</td>\n",
       "      <td>East</td>\n",
       "      <td>FUR-BO-10004834</td>\n",
       "      <td>Furniture</td>\n",
       "      <td>Bookcases</td>\n",
       "      <td>Riverside Palais Royal Lawyers Bookcase, Royal...</td>\n",
       "      <td>4404.90</td>\n",
       "      <td>5</td>\n",
       "      <td>0.0</td>\n",
       "      <td>1013.1270</td>\n",
       "    </tr>\n",
       "  </tbody>\n",
       "</table>\n",
       "</div>"
      ],
      "text/plain": [
       "           Ship Mode Customer Name    Segment        City    State Region  \\\n",
       "5183     First Class   Anna Gayman   Consumer    Columbus  Georgia  South   \n",
       "9741  Standard Class  Quincy Jones  Corporate  Burlington  Vermont   East   \n",
       "\n",
       "           Product ID         Category Sub-Category  \\\n",
       "5183  OFF-ST-10000885  Office Supplies      Storage   \n",
       "9741  FUR-BO-10004834        Furniture    Bookcases   \n",
       "\n",
       "                                           Product Name    Sales  Quantity  \\\n",
       "5183              Fellowes Desktop Hanging File Manager    40.29         3   \n",
       "9741  Riverside Palais Royal Lawyers Bookcase, Royal...  4404.90         5   \n",
       "\n",
       "      Discount     Profit  \n",
       "5183       0.0    10.0725  \n",
       "9741       0.0  1013.1270  "
      ]
     },
     "execution_count": 4,
     "metadata": {},
     "output_type": "execute_result"
    }
   ],
   "source": [
    "df.sample(2)"
   ]
  },
  {
   "cell_type": "markdown",
   "id": "7e207f88",
   "metadata": {},
   "source": [
    "### A) DATA WRANGLING"
   ]
  },
  {
   "cell_type": "code",
   "execution_count": 5,
   "id": "c424c0e2",
   "metadata": {},
   "outputs": [
    {
     "name": "stdout",
     "output_type": "stream",
     "text": [
      "False\n"
     ]
    }
   ],
   "source": [
    "# Hacemos este chequeo para ver si hay algun valor NAN en el dataframe, si sale TRUE quiere decir que si hay al menos un valor\n",
    "# NAN y deberemos verificar como resolverlo tambien.\n",
    "check_for_nan = df.isnull().values.any()\n",
    "print (check_for_nan)"
   ]
  },
  {
   "cell_type": "code",
   "execution_count": 6,
   "id": "3080abd6",
   "metadata": {},
   "outputs": [
    {
     "data": {
      "text/plain": [
       "Ship Mode        0\n",
       "Customer Name    0\n",
       "Segment          0\n",
       "City             0\n",
       "State            0\n",
       "Region           0\n",
       "Product ID       0\n",
       "Category         0\n",
       "Sub-Category     0\n",
       "Product Name     0\n",
       "Sales            0\n",
       "Quantity         0\n",
       "Discount         0\n",
       "Profit           0\n",
       "dtype: int64"
      ]
     },
     "execution_count": 6,
     "metadata": {},
     "output_type": "execute_result"
    }
   ],
   "source": [
    "df.isnull().sum() # Otra forma de corroborar que no faltan datos, nos muestra la suma de valores que faltan."
   ]
  },
  {
   "cell_type": "markdown",
   "id": "d174fb1d",
   "metadata": {},
   "source": [
    "### B) VISUALIZANDO LAS VARIABLES\n",
    "#### Para asi entender como estan distribuidos los datos, elegimos algunos campos representativos y vemos la representación grafica del mismo."
   ]
  },
  {
   "cell_type": "code",
   "execution_count": 7,
   "id": "20d9d62b",
   "metadata": {},
   "outputs": [
    {
     "data": {
      "text/plain": [
       "Office Supplies    6026\n",
       "Furniture          2121\n",
       "Technology         1847\n",
       "Name: Category, dtype: int64"
      ]
     },
     "execution_count": 7,
     "metadata": {},
     "output_type": "execute_result"
    }
   ],
   "source": [
    "df.Category.value_counts()"
   ]
  },
  {
   "cell_type": "code",
   "execution_count": 8,
   "id": "d8403893",
   "metadata": {},
   "outputs": [
    {
     "data": {
      "image/png": "[encoded data removed]",
      "text/plain": [
       "<Figure size 432x288 with 1 Axes>"
      ]
     },
     "metadata": {
      "needs_background": "light"
     },
     "output_type": "display_data"
    },
    {
     "data": {
      "text/plain": [
       "<Figure size 432x288 with 0 Axes>"
      ]
     },
     "metadata": {},
     "output_type": "display_data"
    }
   ],
   "source": [
    "df['Category'].hist(bins=50) # Vemos graficamente a su distribución\n",
    "plt.title('CATEGORIAS')\n",
    "plt.grid(True)\n",
    "plt.show()\n",
    "plt.clf()"
   ]
  },
  {
   "cell_type": "code",
   "execution_count": 9,
   "id": "aa192c4b",
   "metadata": {},
   "outputs": [
    {
     "data": {
      "text/plain": [
       "Consumer       5191\n",
       "Corporate      3020\n",
       "Home Office    1783\n",
       "Name: Segment, dtype: int64"
      ]
     },
     "execution_count": 9,
     "metadata": {},
     "output_type": "execute_result"
    }
   ],
   "source": [
    "df.Segment.value_counts()"
   ]
  },
  {
   "cell_type": "code",
   "execution_count": 10,
   "id": "392dd70d",
   "metadata": {},
   "outputs": [
    {
     "data": {
      "image/png": "[encoded data removed]",
      "text/plain": [
       "<Figure size 432x288 with 1 Axes>"
      ]
     },
     "metadata": {
      "needs_background": "light"
     },
     "output_type": "display_data"
    },
    {
     "data": {
      "text/plain": [
       "<Figure size 432x288 with 0 Axes>"
      ]
     },
     "metadata": {},
     "output_type": "display_data"
    }
   ],
   "source": [
    "df['Segment'].hist(bins=50) # Vemos graficamente a su distribución\n",
    "plt.title('SEGMENTOS')\n",
    "plt.grid(True)\n",
    "plt.show()\n",
    "plt.clf()"
   ]
  },
  {
   "cell_type": "code",
   "execution_count": 11,
   "id": "5668c822",
   "metadata": {},
   "outputs": [
    {
     "data": {
      "text/plain": [
       "0.00    4798\n",
       "0.20    3657\n",
       "0.70     418\n",
       "0.80     300\n",
       "0.30     227\n",
       "0.40     206\n",
       "0.60     138\n",
       "0.10      94\n",
       "0.50      66\n",
       "0.15      52\n",
       "0.32      27\n",
       "0.45      11\n",
       "Name: Discount, dtype: int64"
      ]
     },
     "execution_count": 11,
     "metadata": {},
     "output_type": "execute_result"
    }
   ],
   "source": [
    "df.Discount.value_counts()"
   ]
  },
  {
   "cell_type": "code",
   "execution_count": 12,
   "id": "cc85a3b3",
   "metadata": {},
   "outputs": [
    {
     "data": {
      "image/png": "[encoded data removed]",
      "text/plain": [
       "<Figure size 432x288 with 1 Axes>"
      ]
     },
     "metadata": {
      "needs_background": "light"
     },
     "output_type": "display_data"
    },
    {
     "data": {
      "text/plain": [
       "<Figure size 432x288 with 0 Axes>"
      ]
     },
     "metadata": {},
     "output_type": "display_data"
    }
   ],
   "source": [
    "df['Discount'].hist(bins=50) # Vemos graficamente a su distribución\n",
    "plt.title('DESCUENTOS')\n",
    "plt.grid(True)\n",
    "plt.show()\n",
    "plt.clf()"
   ]
  },
  {
   "cell_type": "markdown",
   "id": "40a8d70a",
   "metadata": {},
   "source": [
    "### C) CONTINUANDO CON EL ANALISIS"
   ]
  },
  {
   "cell_type": "code",
   "execution_count": 13,
   "id": "a6361715",
   "metadata": {},
   "outputs": [
    {
     "data": {
      "text/plain": [
       "Ship Mode         object\n",
       "Customer Name     object\n",
       "Segment           object\n",
       "City              object\n",
       "State             object\n",
       "Region            object\n",
       "Product ID        object\n",
       "Category          object\n",
       "Sub-Category      object\n",
       "Product Name      object\n",
       "Sales            float64\n",
       "Quantity           int64\n",
       "Discount         float64\n",
       "Profit           float64\n",
       "dtype: object"
      ]
     },
     "execution_count": 13,
     "metadata": {},
     "output_type": "execute_result"
    }
   ],
   "source": [
    "df.dtypes "
   ]
  },
  {
   "cell_type": "code",
   "execution_count": 14,
   "id": "f75d7afd",
   "metadata": {},
   "outputs": [
    {
     "data": {
      "text/html": [
       "<div>\n",
       "<style scoped>\n",
       "    .dataframe tbody tr th:only-of-type {\n",
       "        vertical-align: middle;\n",
       "    }\n",
       "\n",
       "    .dataframe tbody tr th {\n",
       "        vertical-align: top;\n",
       "    }\n",
       "\n",
       "    .dataframe thead th {\n",
       "        text-align: right;\n",
       "    }\n",
       "</style>\n",
       "<table border=\"1\" class=\"dataframe\">\n",
       "  <thead>\n",
       "    <tr style=\"text-align: right;\">\n",
       "      <th></th>\n",
       "      <th>Sales</th>\n",
       "      <th>Quantity</th>\n",
       "      <th>Discount</th>\n",
       "      <th>Profit</th>\n",
       "    </tr>\n",
       "  </thead>\n",
       "  <tbody>\n",
       "    <tr>\n",
       "      <th>Sales</th>\n",
       "      <td>1.000000</td>\n",
       "      <td>0.200795</td>\n",
       "      <td>-0.028190</td>\n",
       "      <td>0.479064</td>\n",
       "    </tr>\n",
       "    <tr>\n",
       "      <th>Quantity</th>\n",
       "      <td>0.200795</td>\n",
       "      <td>1.000000</td>\n",
       "      <td>0.008623</td>\n",
       "      <td>0.066253</td>\n",
       "    </tr>\n",
       "    <tr>\n",
       "      <th>Discount</th>\n",
       "      <td>-0.028190</td>\n",
       "      <td>0.008623</td>\n",
       "      <td>1.000000</td>\n",
       "      <td>-0.219487</td>\n",
       "    </tr>\n",
       "    <tr>\n",
       "      <th>Profit</th>\n",
       "      <td>0.479064</td>\n",
       "      <td>0.066253</td>\n",
       "      <td>-0.219487</td>\n",
       "      <td>1.000000</td>\n",
       "    </tr>\n",
       "  </tbody>\n",
       "</table>\n",
       "</div>"
      ],
      "text/plain": [
       "             Sales  Quantity  Discount    Profit\n",
       "Sales     1.000000  0.200795 -0.028190  0.479064\n",
       "Quantity  0.200795  1.000000  0.008623  0.066253\n",
       "Discount -0.028190  0.008623  1.000000 -0.219487\n",
       "Profit    0.479064  0.066253 -0.219487  1.000000"
      ]
     },
     "execution_count": 14,
     "metadata": {},
     "output_type": "execute_result"
    }
   ],
   "source": [
    "df.corr()         # Calcula la correlacion entre todas las variables del dataframe"
   ]
  },
  {
   "cell_type": "code",
   "execution_count": 15,
   "id": "54cf7afc",
   "metadata": {},
   "outputs": [
    {
     "data": {
      "text/plain": [
       "(0.0, 27.397152803075)"
      ]
     },
     "execution_count": 15,
     "metadata": {},
     "output_type": "execute_result"
    },
    {
     "data": {
      "image/png": "[encoded data removed]",
      "text/plain": [
       "<Figure size 432x288 with 1 Axes>"
      ]
     },
     "metadata": {
      "needs_background": "light"
     },
     "output_type": "display_data"
    }
   ],
   "source": [
    "sns.regplot(x=\"Sales\", y=\"Quantity\", data=df)   # Para hacer un grafico y ver la correlación que hay de forma grafica\n",
    "plt.ylim(0)"
   ]
  },
  {
   "cell_type": "code",
   "execution_count": 16,
   "id": "664dfe79",
   "metadata": {},
   "outputs": [
    {
     "data": {
      "text/plain": [
       "(0.0, 0.8517014141723626)"
      ]
     },
     "execution_count": 16,
     "metadata": {},
     "output_type": "execute_result"
    },
    {
     "data": {
      "image/png": "[encoded data removed]",
      "text/plain": [
       "<Figure size 432x288 with 1 Axes>"
      ]
     },
     "metadata": {
      "needs_background": "light"
     },
     "output_type": "display_data"
    }
   ],
   "source": [
    "sns.regplot(x=\"Sales\", y=\"Discount\", data=df)   # Para hacer un grafico y ver la correlación que hay de forma grafica\n",
    "plt.ylim(0)"
   ]
  },
  {
   "cell_type": "code",
   "execution_count": 17,
   "id": "415d9337",
   "metadata": {},
   "outputs": [
    {
     "data": {
      "text/plain": [
       "(0.0, 9149.9737)"
      ]
     },
     "execution_count": 17,
     "metadata": {},
     "output_type": "execute_result"
    },
    {
     "data": {
      "image/png": "[encoded data removed]",
      "text/plain": [
       "<Figure size 432x288 with 1 Axes>"
      ]
     },
     "metadata": {
      "needs_background": "light"
     },
     "output_type": "display_data"
    }
   ],
   "source": [
    "sns.regplot(x=\"Sales\", y=\"Profit\", data=df)   # Para hacer un grafico y ver la correlación que hay de forma grafica\n",
    "plt.ylim(0)"
   ]
  },
  {
   "cell_type": "markdown",
   "id": "ee54d8ae",
   "metadata": {},
   "source": [
    "### Entre Sales y Profit hay una pequeña correlación, para confirmar y practicar aplico un mapa de calor para verlo desde otra perspectiva y ver cuales estan interrelacionadas."
   ]
  },
  {
   "cell_type": "code",
   "execution_count": 18,
   "id": "6ad9d461",
   "metadata": {},
   "outputs": [
    {
     "data": {
      "text/html": [
       "<div>\n",
       "<style scoped>\n",
       "    .dataframe tbody tr th:only-of-type {\n",
       "        vertical-align: middle;\n",
       "    }\n",
       "\n",
       "    .dataframe tbody tr th {\n",
       "        vertical-align: top;\n",
       "    }\n",
       "\n",
       "    .dataframe thead th {\n",
       "        text-align: right;\n",
       "    }\n",
       "</style>\n",
       "<table border=\"1\" class=\"dataframe\">\n",
       "  <thead>\n",
       "    <tr style=\"text-align: right;\">\n",
       "      <th></th>\n",
       "      <th>Sales</th>\n",
       "      <th>Quantity</th>\n",
       "      <th>Discount</th>\n",
       "      <th>Profit</th>\n",
       "    </tr>\n",
       "  </thead>\n",
       "  <tbody>\n",
       "    <tr>\n",
       "      <th>Sales</th>\n",
       "      <td>1.000000</td>\n",
       "      <td>0.200795</td>\n",
       "      <td>-0.028190</td>\n",
       "      <td>0.479064</td>\n",
       "    </tr>\n",
       "    <tr>\n",
       "      <th>Quantity</th>\n",
       "      <td>0.200795</td>\n",
       "      <td>1.000000</td>\n",
       "      <td>0.008623</td>\n",
       "      <td>0.066253</td>\n",
       "    </tr>\n",
       "    <tr>\n",
       "      <th>Discount</th>\n",
       "      <td>-0.028190</td>\n",
       "      <td>0.008623</td>\n",
       "      <td>1.000000</td>\n",
       "      <td>-0.219487</td>\n",
       "    </tr>\n",
       "    <tr>\n",
       "      <th>Profit</th>\n",
       "      <td>0.479064</td>\n",
       "      <td>0.066253</td>\n",
       "      <td>-0.219487</td>\n",
       "      <td>1.000000</td>\n",
       "    </tr>\n",
       "  </tbody>\n",
       "</table>\n",
       "</div>"
      ],
      "text/plain": [
       "             Sales  Quantity  Discount    Profit\n",
       "Sales     1.000000  0.200795 -0.028190  0.479064\n",
       "Quantity  0.200795  1.000000  0.008623  0.066253\n",
       "Discount -0.028190  0.008623  1.000000 -0.219487\n",
       "Profit    0.479064  0.066253 -0.219487  1.000000"
      ]
     },
     "execution_count": 18,
     "metadata": {},
     "output_type": "execute_result"
    }
   ],
   "source": [
    "Cormat = df.corr()\n",
    "Cormat"
   ]
  },
  {
   "cell_type": "code",
   "execution_count": 19,
   "id": "783d0a23",
   "metadata": {},
   "outputs": [
    {
     "data": {
      "text/plain": [
       "<AxesSubplot:>"
      ]
     },
     "execution_count": 19,
     "metadata": {},
     "output_type": "execute_result"
    },
    {
     "data": {
      "image/png": "[encoded data removed]",
      "text/plain": [
       "<Figure size 864x648 with 2 Axes>"
      ]
     },
     "metadata": {
      "needs_background": "light"
     },
     "output_type": "display_data"
    }
   ],
   "source": [
    "f, ax = plt.subplots(figsize=(12,9))\n",
    "sns.heatmap(Cormat, vmax=.6, square=True)\n",
    "# vmax: Hasta donde llega el gradiente, el difuminado de color, si fuera 1 seria hasta ser totalmente blanco.\n",
    "\n",
    "# Interpretación: Mientras mas claro sean los colores, mayor correlación habra entre variables."
   ]
  },
  {
   "cell_type": "code",
   "execution_count": 20,
   "id": "bd56602c",
   "metadata": {},
   "outputs": [],
   "source": [
    "sns.set() # Le decimos a Seaborn que grafique con la configuracion de defecto."
   ]
  },
  {
   "cell_type": "code",
   "execution_count": 21,
   "id": "c1162ba3",
   "metadata": {},
   "outputs": [
    {
     "data": {
      "image/png": "[encoded data removed]",
      "text/plain": [
       "<Figure size 720x720 with 20 Axes>"
      ]
     },
     "metadata": {},
     "output_type": "display_data"
    }
   ],
   "source": [
    "cols = [\"Sales\", \"Quantity\", \"Discount\", \"Profit\"]\n",
    "\n",
    "sns.pairplot(df[cols], height=2.5)\n",
    "plt.show()"
   ]
  },
  {
   "cell_type": "code",
   "execution_count": 22,
   "id": "efed0411",
   "metadata": {},
   "outputs": [
    {
     "data": {
      "text/plain": [
       "Text(0.5, 0, 'Profit')"
      ]
     },
     "execution_count": 22,
     "metadata": {},
     "output_type": "execute_result"
    },
    {
     "data": {
      "image/png": "[encoded data removed]",
      "text/plain": [
       "<Figure size 432x288 with 1 Axes>"
      ]
     },
     "metadata": {},
     "output_type": "display_data"
    }
   ],
   "source": [
    "y=df [\"Sales\"]\n",
    "x=df [\"Profit\"]\n",
    "plt.scatter(x,y)\n",
    "\n",
    "plt.title(\"Diagrama de Ventas segun Profit\")  # Hacemos un diagrama de dispersión segun las variables definidas.\n",
    "plt.ylabel(\"Sales\")\n",
    "plt.xlabel(\"Profit\")"
   ]
  },
  {
   "cell_type": "markdown",
   "id": "52b82561",
   "metadata": {},
   "source": [
    "# Correlación de Pearson\n",
    "\n",
    "### PEARSON = 1: Correlación lineal perfectamente positiva.\n",
    "### PEARSON = 0: No hay relación lineal, las 2 variables no se afectan una a otra.\n",
    "### PEARSON =-1: Perfectamente negativa seria la correlación lineal.\n",
    "\n",
    "# P-VALUE\n",
    "\n",
    "### P-Value  <  0.001: Fuerte evidencia de que la correlación es significante.\n",
    "### P-Value  <  0.05: Moderada evidencia de que la correlación es significante.\n",
    "### P-Value  <  0.1: Debil evidencia de que la correlación es significante.\n",
    "### P-Value  >  0.1: No hay evidencia de que la correlación es significante."
   ]
  },
  {
   "cell_type": "code",
   "execution_count": 23,
   "id": "723591ca",
   "metadata": {},
   "outputs": [
    {
     "name": "stdout",
     "output_type": "stream",
     "text": [
      "La correlacion de Pearson tiene un coeficiente de 0.4790643497377067  con un P-Value de P = 0.0\n"
     ]
    }
   ],
   "source": [
    "from scipy import stats\n",
    "pearson_coef, p_value = stats.pearsonr(df['Sales'], df['Profit'])\n",
    "print(\"La correlacion de Pearson tiene un coeficiente de\", pearson_coef, \" con un P-Value de P =\", p_value) "
   ]
  },
  {
   "cell_type": "code",
   "execution_count": 24,
   "id": "17c0a8da",
   "metadata": {},
   "outputs": [
    {
     "data": {
      "text/plain": [
       "LinearRegression()"
      ]
     },
     "execution_count": 24,
     "metadata": {},
     "output_type": "execute_result"
    }
   ],
   "source": [
    "# Regresión lineal\n",
    "from sklearn.linear_model import LinearRegression\n",
    "lm = LinearRegression()\n",
    "lm"
   ]
  },
  {
   "cell_type": "code",
   "execution_count": 25,
   "id": "8f0a8068",
   "metadata": {},
   "outputs": [],
   "source": [
    "X = df[['Sales']]\n",
    "Y = df['Profit']"
   ]
  },
  {
   "cell_type": "code",
   "execution_count": 26,
   "id": "b9b0e0fd",
   "metadata": {},
   "outputs": [
    {
     "data": {
      "text/plain": [
       "LinearRegression()"
      ]
     },
     "execution_count": 26,
     "metadata": {},
     "output_type": "execute_result"
    }
   ],
   "source": [
    "lm.fit(X,Y) # Entrenamos el modelo"
   ]
  },
  {
   "cell_type": "code",
   "execution_count": 27,
   "id": "854262d1",
   "metadata": {},
   "outputs": [
    {
     "data": {
      "text/plain": [
       "array([ 34.43739621, 119.065127  , -10.10029249, 159.69491892,\n",
       "        -8.70513597])"
      ]
     },
     "execution_count": 27,
     "metadata": {},
     "output_type": "execute_result"
    }
   ],
   "source": [
    "Yhat=lm.predict(X)\n",
    "Yhat[0:5]"
   ]
  },
  {
   "cell_type": "code",
   "execution_count": 28,
   "id": "b5a1e8c4",
   "metadata": {},
   "outputs": [
    {
     "data": {
      "text/plain": [
       "-12.732867116682826"
      ]
     },
     "execution_count": 28,
     "metadata": {},
     "output_type": "execute_result"
    }
   ],
   "source": [
    "lm.intercept_"
   ]
  },
  {
   "cell_type": "code",
   "execution_count": 29,
   "id": "57f260ac",
   "metadata": {},
   "outputs": [
    {
     "data": {
      "text/plain": [
       "array([0.18006666])"
      ]
     },
     "execution_count": 29,
     "metadata": {},
     "output_type": "execute_result"
    }
   ],
   "source": [
    "lm.coef_"
   ]
  },
  {
   "cell_type": "markdown",
   "id": "c0b98058",
   "metadata": {},
   "source": [
    "#### Nos dice que sera una regresión lineal con la formula Y=a+bX, donde a=intercept y donde b=coef que seria como decir\n",
    "#### Profit = -12.732867 + 0.18006666xSales\n",
    "#### Con esta formula podremos predecir una linea de tendencia y el precio dado ciertos valores"
   ]
  },
  {
   "cell_type": "code",
   "execution_count": 30,
   "id": "2e21cf1d",
   "metadata": {},
   "outputs": [
    {
     "data": {
      "text/plain": [
       "(0.0, 24332.894520322025)"
      ]
     },
     "execution_count": 30,
     "metadata": {},
     "output_type": "execute_result"
    },
    {
     "data": {
      "image/png": "[encoded data removed]",
      "text/plain": [
       "<Figure size 432x288 with 1 Axes>"
      ]
     },
     "metadata": {},
     "output_type": "display_data"
    }
   ],
   "source": [
    "sns.regplot (x=\"Profit\", y=\"Sales\", data=df)\n",
    "plt.ylim (0, )\n"
   ]
  },
  {
   "cell_type": "code",
   "execution_count": 31,
   "id": "bb4509ae",
   "metadata": {},
   "outputs": [
    {
     "name": "stderr",
     "output_type": "stream",
     "text": [
      "c:\\users\\nestor\\appdata\\local\\programs\\python\\python39\\lib\\site-packages\\seaborn\\_decorators.py:36: FutureWarning: Pass the following variables as keyword args: x, y. From version 0.12, the only valid positional argument will be `data`, and passing other arguments without an explicit keyword will result in an error or misinterpretation.\n",
      "  warnings.warn(\n"
     ]
    },
    {
     "data": {
      "image/png": "[encoded data removed]",
      "text/plain": [
       "<Figure size 576x432 with 1 Axes>"
      ]
     },
     "metadata": {},
     "output_type": "display_data"
    }
   ],
   "source": [
    "# Residual Plot: Como la distribución de los valores no es aleatoria, esto sugiere que la suposición lineal es no sera correcta.\n",
    "\n",
    "width = 8\n",
    "height = 6\n",
    "plt.figure(figsize=(width, height))\n",
    "sns.residplot(df['Sales'], df['Profit'])\n",
    "plt.show()"
   ]
  },
  {
   "cell_type": "code",
   "execution_count": 32,
   "id": "d2223550",
   "metadata": {},
   "outputs": [
    {
     "data": {
      "text/plain": [
       "array([ 34.43739621, 119.065127  , -10.10029249, ...,  33.82805062,\n",
       "        -7.40289386,  31.05214292])"
      ]
     },
     "execution_count": 32,
     "metadata": {},
     "output_type": "execute_result"
    }
   ],
   "source": [
    "lm.predict(X)"
   ]
  },
  {
   "cell_type": "markdown",
   "id": "8c24571e",
   "metadata": {},
   "source": [
    "#### PREDICCION 1°: Por ejemplo buscamos predecir cuantas ventas van a otorganr un profit de 1000."
   ]
  },
  {
   "cell_type": "code",
   "execution_count": 33,
   "id": "6b2b9cb2",
   "metadata": {},
   "outputs": [
    {
     "data": {
      "text/plain": [
       "('Por cada 1000 Ventas (Sales) obtenemos un', 167.333793, 'de Profit')"
      ]
     },
     "execution_count": 33,
     "metadata": {},
     "output_type": "execute_result"
    }
   ],
   "source": [
    "Prediccion = -12.732867 + 0.18006666*1000\n",
    "\"Por cada 1000 Ventas (Sales) obtenemos un\", Prediccion, \"de Profit\""
   ]
  },
  {
   "cell_type": "markdown",
   "id": "0c6ee23b",
   "metadata": {},
   "source": [
    "#### Ahora intentamos sacar una correlación de multiples variables tomando valores de 3 columnas."
   ]
  },
  {
   "cell_type": "code",
   "execution_count": 34,
   "id": "79fe79eb",
   "metadata": {},
   "outputs": [],
   "source": [
    "lm2 = LinearRegression()\n",
    "\n",
    "Z = df[[\"Discount\", \"Profit\", \"Quantity\"]]\n",
    "\n",
    "lm2.fit(Z, df[\"Sales\"])  # Entrenamos el modelo\n",
    "\n",
    "Yhat=lm2.predict(Z)       # Obtenemos la predicción"
   ]
  },
  {
   "cell_type": "code",
   "execution_count": 35,
   "id": "4ba7c210",
   "metadata": {},
   "outputs": [
    {
     "data": {
      "text/plain": [
       "-21.639018033198425"
      ]
     },
     "execution_count": 35,
     "metadata": {},
     "output_type": "execute_result"
    }
   ],
   "source": [
    "lm2.intercept_"
   ]
  },
  {
   "cell_type": "code",
   "execution_count": 36,
   "id": "bedfab7f",
   "metadata": {},
   "outputs": [
    {
     "data": {
      "text/plain": [
       "array([231.73990717,   1.28975366,  47.06024734])"
      ]
     },
     "execution_count": 36,
     "metadata": {},
     "output_type": "execute_result"
    }
   ],
   "source": [
    "lm2.coef_"
   ]
  },
  {
   "cell_type": "markdown",
   "id": "4c292118",
   "metadata": {},
   "source": [
    "#### Sales (Vemtas) = -21.6390180 + 231.7399xDiscount + 1.28975366xProfit + 47.060247xQuantity\n",
    "#### Esta es la formula obtenida para predecir la cantidad de Sales segun los demas valores del dataset."
   ]
  },
  {
   "cell_type": "markdown",
   "id": "767483dc",
   "metadata": {},
   "source": [
    "#### PREDICCION 2°: Buscamos predecir cuantas Sales se obtienen cuando hay 100 de discount, 1000 de profit y 1000 de quantity."
   ]
  },
  {
   "cell_type": "code",
   "execution_count": 37,
   "id": "5580e570",
   "metadata": {},
   "outputs": [
    {
     "data": {
      "text/plain": [
       "('Cuando hay valores de 100 de discount, 1000 de profit y 1000 de quantity, se obtienen',\n",
       " 71502.351642,\n",
       " 'de ventas (sales)')"
      ]
     },
     "execution_count": 37,
     "metadata": {},
     "output_type": "execute_result"
    }
   ],
   "source": [
    "Prediccion = -21.6390180 + (231.7399*100)+(1.28975366*1000)+(47.060247*1000)\n",
    "\"Cuando hay valores de 100 de discount, 1000 de profit y 1000 de quantity, se obtienen\", Prediccion, \"de ventas (sales)\""
   ]
  },
  {
   "cell_type": "code",
   "execution_count": 38,
   "id": "0e512ce5",
   "metadata": {},
   "outputs": [],
   "source": [
    "# Graficando una regresion de multiples variables\n",
    "\n",
    "Y_hat = lm2.predict(Z)"
   ]
  },
  {
   "cell_type": "code",
   "execution_count": 39,
   "id": "a017833d",
   "metadata": {},
   "outputs": [
    {
     "name": "stderr",
     "output_type": "stream",
     "text": [
      "c:\\users\\nestor\\appdata\\local\\programs\\python\\python39\\lib\\site-packages\\seaborn\\distributions.py:2557: FutureWarning: `distplot` is a deprecated function and will be removed in a future version. Please adapt your code to use either `displot` (a figure-level function with similar flexibility) or `kdeplot` (an axes-level function for kernel density plots).\n",
      "  warnings.warn(msg, FutureWarning)\n",
      "c:\\users\\nestor\\appdata\\local\\programs\\python\\python39\\lib\\site-packages\\seaborn\\distributions.py:2557: FutureWarning: `distplot` is a deprecated function and will be removed in a future version. Please adapt your code to use either `displot` (a figure-level function with similar flexibility) or `kdeplot` (an axes-level function for kernel density plots).\n",
      "  warnings.warn(msg, FutureWarning)\n"
     ]
    },
    {
     "data": {
      "image/png": "[encoded data removed]",
      "text/plain": [
       "<Figure size 576x432 with 1 Axes>"
      ]
     },
     "metadata": {},
     "output_type": "display_data"
    }
   ],
   "source": [
    "plt.figure(figsize=(width, height))\n",
    "\n",
    "ax1 = sns.distplot(df['Sales'], hist=False, color=\"r\", label=\"Actual Value\")\n",
    "sns.distplot(Y_hat, hist=False, color=\"b\", label=\"Valores Buscados\" , ax=ax1)\n",
    "\n",
    "\n",
    "plt.title('Ventas vs Profit')\n",
    "plt.xlabel('Profit')\n",
    "plt.ylabel('Sales')\n",
    "\n",
    "plt.show()\n",
    "plt.close()"
   ]
  },
  {
   "cell_type": "markdown",
   "id": "f98f5a88",
   "metadata": {},
   "source": [
    "## Algoritmos de Arboles de Decisión:\n",
    "#### Importamos inicialmente las librerias y modulos que vamos a utilizar, luego importamos otras mas."
   ]
  },
  {
   "cell_type": "code",
   "execution_count": 40,
   "id": "5c6dfc73",
   "metadata": {},
   "outputs": [],
   "source": [
    "import urllib.request\n",
    "import pandas as pd\n",
    "from sklearn.model_selection import train_test_split\n",
    "from sklearn.ensemble import RandomForestClassifier\n",
    "from sklearn.tree import DecisionTreeClassifier\n",
    "\n",
    "import numpy as np"
   ]
  },
  {
   "cell_type": "code",
   "execution_count": 41,
   "id": "a3922541",
   "metadata": {},
   "outputs": [
    {
     "data": {
      "text/html": [
       "<div>\n",
       "<style scoped>\n",
       "    .dataframe tbody tr th:only-of-type {\n",
       "        vertical-align: middle;\n",
       "    }\n",
       "\n",
       "    .dataframe tbody tr th {\n",
       "        vertical-align: top;\n",
       "    }\n",
       "\n",
       "    .dataframe thead th {\n",
       "        text-align: right;\n",
       "    }\n",
       "</style>\n",
       "<table border=\"1\" class=\"dataframe\">\n",
       "  <thead>\n",
       "    <tr style=\"text-align: right;\">\n",
       "      <th></th>\n",
       "      <th>Ship Mode</th>\n",
       "      <th>Customer Name</th>\n",
       "      <th>Segment</th>\n",
       "      <th>City</th>\n",
       "      <th>State</th>\n",
       "      <th>Region</th>\n",
       "      <th>Product ID</th>\n",
       "      <th>Category</th>\n",
       "      <th>Sub-Category</th>\n",
       "      <th>Product Name</th>\n",
       "      <th>Sales</th>\n",
       "      <th>Quantity</th>\n",
       "      <th>Discount</th>\n",
       "      <th>Profit</th>\n",
       "    </tr>\n",
       "  </thead>\n",
       "  <tbody>\n",
       "    <tr>\n",
       "      <th>0</th>\n",
       "      <td>Second Class</td>\n",
       "      <td>Claire Gute</td>\n",
       "      <td>Consumer</td>\n",
       "      <td>Henderson</td>\n",
       "      <td>Kentucky</td>\n",
       "      <td>South</td>\n",
       "      <td>FUR-BO-10001798</td>\n",
       "      <td>Furniture</td>\n",
       "      <td>Bookcases</td>\n",
       "      <td>Bush Somerset Collection Bookcase</td>\n",
       "      <td>261.9600</td>\n",
       "      <td>2</td>\n",
       "      <td>0.00</td>\n",
       "      <td>41.9136</td>\n",
       "    </tr>\n",
       "    <tr>\n",
       "      <th>1</th>\n",
       "      <td>Second Class</td>\n",
       "      <td>Claire Gute</td>\n",
       "      <td>Consumer</td>\n",
       "      <td>Henderson</td>\n",
       "      <td>Kentucky</td>\n",
       "      <td>South</td>\n",
       "      <td>FUR-CH-10000454</td>\n",
       "      <td>Furniture</td>\n",
       "      <td>Chairs</td>\n",
       "      <td>Hon Deluxe Fabric Upholstered Stacking Chairs,...</td>\n",
       "      <td>731.9400</td>\n",
       "      <td>3</td>\n",
       "      <td>0.00</td>\n",
       "      <td>219.5820</td>\n",
       "    </tr>\n",
       "    <tr>\n",
       "      <th>2</th>\n",
       "      <td>Second Class</td>\n",
       "      <td>Darrin Van Huff</td>\n",
       "      <td>Corporate</td>\n",
       "      <td>Los Angeles</td>\n",
       "      <td>California</td>\n",
       "      <td>West</td>\n",
       "      <td>OFF-LA-10000240</td>\n",
       "      <td>Office Supplies</td>\n",
       "      <td>Labels</td>\n",
       "      <td>Self-Adhesive Address Labels for Typewriters b...</td>\n",
       "      <td>14.6200</td>\n",
       "      <td>2</td>\n",
       "      <td>0.00</td>\n",
       "      <td>6.8714</td>\n",
       "    </tr>\n",
       "    <tr>\n",
       "      <th>3</th>\n",
       "      <td>Standard Class</td>\n",
       "      <td>Sean O'Donnell</td>\n",
       "      <td>Consumer</td>\n",
       "      <td>Fort Lauderdale</td>\n",
       "      <td>Florida</td>\n",
       "      <td>South</td>\n",
       "      <td>FUR-TA-10000577</td>\n",
       "      <td>Furniture</td>\n",
       "      <td>Tables</td>\n",
       "      <td>Bretford CR4500 Series Slim Rectangular Table</td>\n",
       "      <td>957.5775</td>\n",
       "      <td>5</td>\n",
       "      <td>0.45</td>\n",
       "      <td>-383.0310</td>\n",
       "    </tr>\n",
       "    <tr>\n",
       "      <th>4</th>\n",
       "      <td>Standard Class</td>\n",
       "      <td>Sean O'Donnell</td>\n",
       "      <td>Consumer</td>\n",
       "      <td>Fort Lauderdale</td>\n",
       "      <td>Florida</td>\n",
       "      <td>South</td>\n",
       "      <td>OFF-ST-10000760</td>\n",
       "      <td>Office Supplies</td>\n",
       "      <td>Storage</td>\n",
       "      <td>Eldon Fold 'N Roll Cart System</td>\n",
       "      <td>22.3680</td>\n",
       "      <td>2</td>\n",
       "      <td>0.20</td>\n",
       "      <td>2.5164</td>\n",
       "    </tr>\n",
       "  </tbody>\n",
       "</table>\n",
       "</div>"
      ],
      "text/plain": [
       "        Ship Mode    Customer Name    Segment             City       State  \\\n",
       "0    Second Class      Claire Gute   Consumer        Henderson    Kentucky   \n",
       "1    Second Class      Claire Gute   Consumer        Henderson    Kentucky   \n",
       "2    Second Class  Darrin Van Huff  Corporate      Los Angeles  California   \n",
       "3  Standard Class   Sean O'Donnell   Consumer  Fort Lauderdale     Florida   \n",
       "4  Standard Class   Sean O'Donnell   Consumer  Fort Lauderdale     Florida   \n",
       "\n",
       "  Region       Product ID         Category Sub-Category  \\\n",
       "0  South  FUR-BO-10001798        Furniture    Bookcases   \n",
       "1  South  FUR-CH-10000454        Furniture       Chairs   \n",
       "2   West  OFF-LA-10000240  Office Supplies       Labels   \n",
       "3  South  FUR-TA-10000577        Furniture       Tables   \n",
       "4  South  OFF-ST-10000760  Office Supplies      Storage   \n",
       "\n",
       "                                        Product Name     Sales  Quantity  \\\n",
       "0                  Bush Somerset Collection Bookcase  261.9600         2   \n",
       "1  Hon Deluxe Fabric Upholstered Stacking Chairs,...  731.9400         3   \n",
       "2  Self-Adhesive Address Labels for Typewriters b...   14.6200         2   \n",
       "3      Bretford CR4500 Series Slim Rectangular Table  957.5775         5   \n",
       "4                     Eldon Fold 'N Roll Cart System   22.3680         2   \n",
       "\n",
       "   Discount    Profit  \n",
       "0      0.00   41.9136  \n",
       "1      0.00  219.5820  \n",
       "2      0.00    6.8714  \n",
       "3      0.45 -383.0310  \n",
       "4      0.20    2.5164  "
      ]
     },
     "execution_count": 41,
     "metadata": {},
     "output_type": "execute_result"
    }
   ],
   "source": [
    "df.head()"
   ]
  },
  {
   "cell_type": "code",
   "execution_count": 42,
   "id": "90e5cb2b",
   "metadata": {},
   "outputs": [
    {
     "data": {
      "text/plain": [
       "Ship Mode         object\n",
       "Customer Name     object\n",
       "Segment           object\n",
       "City              object\n",
       "State             object\n",
       "Region            object\n",
       "Product ID        object\n",
       "Category          object\n",
       "Sub-Category      object\n",
       "Product Name      object\n",
       "Sales            float64\n",
       "Quantity           int64\n",
       "Discount         float64\n",
       "Profit           float64\n",
       "dtype: object"
      ]
     },
     "execution_count": 42,
     "metadata": {},
     "output_type": "execute_result"
    }
   ],
   "source": [
    "df.dtypes # Analizando la base de datos y su composición."
   ]
  },
  {
   "cell_type": "markdown",
   "id": "46e41779",
   "metadata": {},
   "source": [
    "#### Para poder usar los siguientes algoritmos, necesitamos convertir las variables categoricas en numericas, utilizo OneHot Encoding"
   ]
  },
  {
   "cell_type": "code",
   "execution_count": 43,
   "id": "9ab371d4",
   "metadata": {},
   "outputs": [],
   "source": [
    "# Primero procedemos a limpiar los datos de variables categoricas, eliminamos todas.\n",
    "numerica = df.drop([\"Ship Mode\", \"Customer Name\", \"Segment\", \"City\", \"State\", \"Region\", \"Product ID\", \"Category\", \"Sub-Category\", \"Product Name\"], axis =1)\n"
   ]
  },
  {
   "cell_type": "code",
   "execution_count": 44,
   "id": "1498f684",
   "metadata": {},
   "outputs": [
    {
     "data": {
      "text/html": [
       "<div>\n",
       "<style scoped>\n",
       "    .dataframe tbody tr th:only-of-type {\n",
       "        vertical-align: middle;\n",
       "    }\n",
       "\n",
       "    .dataframe tbody tr th {\n",
       "        vertical-align: top;\n",
       "    }\n",
       "\n",
       "    .dataframe thead th {\n",
       "        text-align: right;\n",
       "    }\n",
       "</style>\n",
       "<table border=\"1\" class=\"dataframe\">\n",
       "  <thead>\n",
       "    <tr style=\"text-align: right;\">\n",
       "      <th></th>\n",
       "      <th>Sales</th>\n",
       "      <th>Quantity</th>\n",
       "      <th>Discount</th>\n",
       "      <th>Profit</th>\n",
       "    </tr>\n",
       "  </thead>\n",
       "  <tbody>\n",
       "    <tr>\n",
       "      <th>0</th>\n",
       "      <td>261.9600</td>\n",
       "      <td>2</td>\n",
       "      <td>0.00</td>\n",
       "      <td>41.9136</td>\n",
       "    </tr>\n",
       "    <tr>\n",
       "      <th>1</th>\n",
       "      <td>731.9400</td>\n",
       "      <td>3</td>\n",
       "      <td>0.00</td>\n",
       "      <td>219.5820</td>\n",
       "    </tr>\n",
       "    <tr>\n",
       "      <th>2</th>\n",
       "      <td>14.6200</td>\n",
       "      <td>2</td>\n",
       "      <td>0.00</td>\n",
       "      <td>6.8714</td>\n",
       "    </tr>\n",
       "    <tr>\n",
       "      <th>3</th>\n",
       "      <td>957.5775</td>\n",
       "      <td>5</td>\n",
       "      <td>0.45</td>\n",
       "      <td>-383.0310</td>\n",
       "    </tr>\n",
       "    <tr>\n",
       "      <th>4</th>\n",
       "      <td>22.3680</td>\n",
       "      <td>2</td>\n",
       "      <td>0.20</td>\n",
       "      <td>2.5164</td>\n",
       "    </tr>\n",
       "  </tbody>\n",
       "</table>\n",
       "</div>"
      ],
      "text/plain": [
       "      Sales  Quantity  Discount    Profit\n",
       "0  261.9600         2      0.00   41.9136\n",
       "1  731.9400         3      0.00  219.5820\n",
       "2   14.6200         2      0.00    6.8714\n",
       "3  957.5775         5      0.45 -383.0310\n",
       "4   22.3680         2      0.20    2.5164"
      ]
     },
     "execution_count": 44,
     "metadata": {},
     "output_type": "execute_result"
    }
   ],
   "source": [
    "numerica.head() # Vemos que muestra solo las variables numericas que quedaron por ahora."
   ]
  },
  {
   "cell_type": "code",
   "execution_count": 45,
   "id": "172ce82d",
   "metadata": {},
   "outputs": [
    {
     "data": {
      "text/html": [
       "<div>\n",
       "<style scoped>\n",
       "    .dataframe tbody tr th:only-of-type {\n",
       "        vertical-align: middle;\n",
       "    }\n",
       "\n",
       "    .dataframe tbody tr th {\n",
       "        vertical-align: top;\n",
       "    }\n",
       "\n",
       "    .dataframe thead th {\n",
       "        text-align: right;\n",
       "    }\n",
       "</style>\n",
       "<table border=\"1\" class=\"dataframe\">\n",
       "  <thead>\n",
       "    <tr style=\"text-align: right;\">\n",
       "      <th></th>\n",
       "      <th>Ship Mode</th>\n",
       "      <th>Segment</th>\n",
       "      <th>City</th>\n",
       "      <th>State</th>\n",
       "      <th>Region</th>\n",
       "      <th>Category</th>\n",
       "      <th>Sub-Category</th>\n",
       "    </tr>\n",
       "  </thead>\n",
       "  <tbody>\n",
       "    <tr>\n",
       "      <th>0</th>\n",
       "      <td>Second Class</td>\n",
       "      <td>Consumer</td>\n",
       "      <td>Henderson</td>\n",
       "      <td>Kentucky</td>\n",
       "      <td>South</td>\n",
       "      <td>Furniture</td>\n",
       "      <td>Bookcases</td>\n",
       "    </tr>\n",
       "    <tr>\n",
       "      <th>1</th>\n",
       "      <td>Second Class</td>\n",
       "      <td>Consumer</td>\n",
       "      <td>Henderson</td>\n",
       "      <td>Kentucky</td>\n",
       "      <td>South</td>\n",
       "      <td>Furniture</td>\n",
       "      <td>Chairs</td>\n",
       "    </tr>\n",
       "    <tr>\n",
       "      <th>2</th>\n",
       "      <td>Second Class</td>\n",
       "      <td>Corporate</td>\n",
       "      <td>Los Angeles</td>\n",
       "      <td>California</td>\n",
       "      <td>West</td>\n",
       "      <td>Office Supplies</td>\n",
       "      <td>Labels</td>\n",
       "    </tr>\n",
       "    <tr>\n",
       "      <th>3</th>\n",
       "      <td>Standard Class</td>\n",
       "      <td>Consumer</td>\n",
       "      <td>Fort Lauderdale</td>\n",
       "      <td>Florida</td>\n",
       "      <td>South</td>\n",
       "      <td>Furniture</td>\n",
       "      <td>Tables</td>\n",
       "    </tr>\n",
       "    <tr>\n",
       "      <th>4</th>\n",
       "      <td>Standard Class</td>\n",
       "      <td>Consumer</td>\n",
       "      <td>Fort Lauderdale</td>\n",
       "      <td>Florida</td>\n",
       "      <td>South</td>\n",
       "      <td>Office Supplies</td>\n",
       "      <td>Storage</td>\n",
       "    </tr>\n",
       "  </tbody>\n",
       "</table>\n",
       "</div>"
      ],
      "text/plain": [
       "        Ship Mode    Segment             City       State Region  \\\n",
       "0    Second Class   Consumer        Henderson    Kentucky  South   \n",
       "1    Second Class   Consumer        Henderson    Kentucky  South   \n",
       "2    Second Class  Corporate      Los Angeles  California   West   \n",
       "3  Standard Class   Consumer  Fort Lauderdale     Florida  South   \n",
       "4  Standard Class   Consumer  Fort Lauderdale     Florida  South   \n",
       "\n",
       "          Category Sub-Category  \n",
       "0        Furniture    Bookcases  \n",
       "1        Furniture       Chairs  \n",
       "2  Office Supplies       Labels  \n",
       "3        Furniture       Tables  \n",
       "4  Office Supplies      Storage  "
      ]
     },
     "execution_count": 45,
     "metadata": {},
     "output_type": "execute_result"
    }
   ],
   "source": [
    "# Agregamos una nueva variable para ver solo las categoricas importantes para el analisis y asi poder determinar como asignar un criterio a cada valor\n",
    "categorica=df.filter([\"Ship Mode\", \"Segment\", \"City\", \"State\", \"Region\", \"Category\", \"Sub-Category\"])\n",
    "categorica.head()"
   ]
  },
  {
   "cell_type": "code",
   "execution_count": 46,
   "id": "f8057257",
   "metadata": {},
   "outputs": [
    {
     "data": {
      "text/plain": [
       "0         Second Class\n",
       "1         Second Class\n",
       "2         Second Class\n",
       "3       Standard Class\n",
       "4       Standard Class\n",
       "             ...      \n",
       "9989      Second Class\n",
       "9990    Standard Class\n",
       "9991    Standard Class\n",
       "9992    Standard Class\n",
       "9993      Second Class\n",
       "Name: Ship Mode, Length: 9994, dtype: object"
      ]
     },
     "execution_count": 46,
     "metadata": {},
     "output_type": "execute_result"
    }
   ],
   "source": [
    "# Empezamos con Ship Mode\n",
    "categorica.iloc[:,0] # El numero indica la posicion de las columnas que va a mostrar de la variable \"categorica\""
   ]
  },
  {
   "cell_type": "code",
   "execution_count": 47,
   "id": "40cface3",
   "metadata": {},
   "outputs": [
    {
     "data": {
      "text/html": [
       "<div>\n",
       "<style scoped>\n",
       "    .dataframe tbody tr th:only-of-type {\n",
       "        vertical-align: middle;\n",
       "    }\n",
       "\n",
       "    .dataframe tbody tr th {\n",
       "        vertical-align: top;\n",
       "    }\n",
       "\n",
       "    .dataframe thead th {\n",
       "        text-align: right;\n",
       "    }\n",
       "</style>\n",
       "<table border=\"1\" class=\"dataframe\">\n",
       "  <thead>\n",
       "    <tr style=\"text-align: right;\">\n",
       "      <th></th>\n",
       "      <th>First Class</th>\n",
       "      <th>Same Day</th>\n",
       "      <th>Second Class</th>\n",
       "      <th>Standard Class</th>\n",
       "    </tr>\n",
       "  </thead>\n",
       "  <tbody>\n",
       "    <tr>\n",
       "      <th>0</th>\n",
       "      <td>0</td>\n",
       "      <td>0</td>\n",
       "      <td>1</td>\n",
       "      <td>0</td>\n",
       "    </tr>\n",
       "    <tr>\n",
       "      <th>1</th>\n",
       "      <td>0</td>\n",
       "      <td>0</td>\n",
       "      <td>1</td>\n",
       "      <td>0</td>\n",
       "    </tr>\n",
       "    <tr>\n",
       "      <th>2</th>\n",
       "      <td>0</td>\n",
       "      <td>0</td>\n",
       "      <td>1</td>\n",
       "      <td>0</td>\n",
       "    </tr>\n",
       "    <tr>\n",
       "      <th>3</th>\n",
       "      <td>0</td>\n",
       "      <td>0</td>\n",
       "      <td>0</td>\n",
       "      <td>1</td>\n",
       "    </tr>\n",
       "    <tr>\n",
       "      <th>4</th>\n",
       "      <td>0</td>\n",
       "      <td>0</td>\n",
       "      <td>0</td>\n",
       "      <td>1</td>\n",
       "    </tr>\n",
       "    <tr>\n",
       "      <th>...</th>\n",
       "      <td>...</td>\n",
       "      <td>...</td>\n",
       "      <td>...</td>\n",
       "      <td>...</td>\n",
       "    </tr>\n",
       "    <tr>\n",
       "      <th>9989</th>\n",
       "      <td>0</td>\n",
       "      <td>0</td>\n",
       "      <td>1</td>\n",
       "      <td>0</td>\n",
       "    </tr>\n",
       "    <tr>\n",
       "      <th>9990</th>\n",
       "      <td>0</td>\n",
       "      <td>0</td>\n",
       "      <td>0</td>\n",
       "      <td>1</td>\n",
       "    </tr>\n",
       "    <tr>\n",
       "      <th>9991</th>\n",
       "      <td>0</td>\n",
       "      <td>0</td>\n",
       "      <td>0</td>\n",
       "      <td>1</td>\n",
       "    </tr>\n",
       "    <tr>\n",
       "      <th>9992</th>\n",
       "      <td>0</td>\n",
       "      <td>0</td>\n",
       "      <td>0</td>\n",
       "      <td>1</td>\n",
       "    </tr>\n",
       "    <tr>\n",
       "      <th>9993</th>\n",
       "      <td>0</td>\n",
       "      <td>0</td>\n",
       "      <td>1</td>\n",
       "      <td>0</td>\n",
       "    </tr>\n",
       "  </tbody>\n",
       "</table>\n",
       "<p>9994 rows × 4 columns</p>\n",
       "</div>"
      ],
      "text/plain": [
       "      First Class  Same Day  Second Class  Standard Class\n",
       "0               0         0             1               0\n",
       "1               0         0             1               0\n",
       "2               0         0             1               0\n",
       "3               0         0             0               1\n",
       "4               0         0             0               1\n",
       "...           ...       ...           ...             ...\n",
       "9989            0         0             1               0\n",
       "9990            0         0             0               1\n",
       "9991            0         0             0               1\n",
       "9992            0         0             0               1\n",
       "9993            0         0             1               0\n",
       "\n",
       "[9994 rows x 4 columns]"
      ]
     },
     "execution_count": 47,
     "metadata": {},
     "output_type": "execute_result"
    }
   ],
   "source": [
    "cat_numerica=pd.get_dummies(categorica.iloc[:,0], drop_first=False) #Definimos la nueva variable para \"Ship Mode\"\n",
    "cat_numerica"
   ]
  },
  {
   "cell_type": "markdown",
   "id": "e85ca729",
   "metadata": {},
   "source": [
    "#### EL anterior fue a modo de ejemplo para convertir una columna a numerica, ahora convierto todas con una sola formula para evitar hacer repetitiva la operación."
   ]
  },
  {
   "cell_type": "code",
   "execution_count": 48,
   "id": "fb819940",
   "metadata": {},
   "outputs": [
    {
     "data": {
      "text/html": [
       "<div>\n",
       "<style scoped>\n",
       "    .dataframe tbody tr th:only-of-type {\n",
       "        vertical-align: middle;\n",
       "    }\n",
       "\n",
       "    .dataframe tbody tr th {\n",
       "        vertical-align: top;\n",
       "    }\n",
       "\n",
       "    .dataframe thead th {\n",
       "        text-align: right;\n",
       "    }\n",
       "</style>\n",
       "<table border=\"1\" class=\"dataframe\">\n",
       "  <thead>\n",
       "    <tr style=\"text-align: right;\">\n",
       "      <th></th>\n",
       "      <th>Ship Mode_First Class</th>\n",
       "      <th>Ship Mode_Same Day</th>\n",
       "      <th>Ship Mode_Second Class</th>\n",
       "      <th>Ship Mode_Standard Class</th>\n",
       "      <th>Segment_Consumer</th>\n",
       "      <th>Segment_Corporate</th>\n",
       "      <th>Segment_Home Office</th>\n",
       "      <th>City_Aberdeen</th>\n",
       "      <th>City_Abilene</th>\n",
       "      <th>City_Akron</th>\n",
       "      <th>...</th>\n",
       "      <th>Sub-Category_Envelopes</th>\n",
       "      <th>Sub-Category_Fasteners</th>\n",
       "      <th>Sub-Category_Furnishings</th>\n",
       "      <th>Sub-Category_Labels</th>\n",
       "      <th>Sub-Category_Machines</th>\n",
       "      <th>Sub-Category_Paper</th>\n",
       "      <th>Sub-Category_Phones</th>\n",
       "      <th>Sub-Category_Storage</th>\n",
       "      <th>Sub-Category_Supplies</th>\n",
       "      <th>Sub-Category_Tables</th>\n",
       "    </tr>\n",
       "  </thead>\n",
       "  <tbody>\n",
       "    <tr>\n",
       "      <th>0</th>\n",
       "      <td>0</td>\n",
       "      <td>0</td>\n",
       "      <td>1</td>\n",
       "      <td>0</td>\n",
       "      <td>1</td>\n",
       "      <td>0</td>\n",
       "      <td>0</td>\n",
       "      <td>0</td>\n",
       "      <td>0</td>\n",
       "      <td>0</td>\n",
       "      <td>...</td>\n",
       "      <td>0</td>\n",
       "      <td>0</td>\n",
       "      <td>0</td>\n",
       "      <td>0</td>\n",
       "      <td>0</td>\n",
       "      <td>0</td>\n",
       "      <td>0</td>\n",
       "      <td>0</td>\n",
       "      <td>0</td>\n",
       "      <td>0</td>\n",
       "    </tr>\n",
       "    <tr>\n",
       "      <th>1</th>\n",
       "      <td>0</td>\n",
       "      <td>0</td>\n",
       "      <td>1</td>\n",
       "      <td>0</td>\n",
       "      <td>1</td>\n",
       "      <td>0</td>\n",
       "      <td>0</td>\n",
       "      <td>0</td>\n",
       "      <td>0</td>\n",
       "      <td>0</td>\n",
       "      <td>...</td>\n",
       "      <td>0</td>\n",
       "      <td>0</td>\n",
       "      <td>0</td>\n",
       "      <td>0</td>\n",
       "      <td>0</td>\n",
       "      <td>0</td>\n",
       "      <td>0</td>\n",
       "      <td>0</td>\n",
       "      <td>0</td>\n",
       "      <td>0</td>\n",
       "    </tr>\n",
       "    <tr>\n",
       "      <th>2</th>\n",
       "      <td>0</td>\n",
       "      <td>0</td>\n",
       "      <td>1</td>\n",
       "      <td>0</td>\n",
       "      <td>0</td>\n",
       "      <td>1</td>\n",
       "      <td>0</td>\n",
       "      <td>0</td>\n",
       "      <td>0</td>\n",
       "      <td>0</td>\n",
       "      <td>...</td>\n",
       "      <td>0</td>\n",
       "      <td>0</td>\n",
       "      <td>0</td>\n",
       "      <td>1</td>\n",
       "      <td>0</td>\n",
       "      <td>0</td>\n",
       "      <td>0</td>\n",
       "      <td>0</td>\n",
       "      <td>0</td>\n",
       "      <td>0</td>\n",
       "    </tr>\n",
       "    <tr>\n",
       "      <th>3</th>\n",
       "      <td>0</td>\n",
       "      <td>0</td>\n",
       "      <td>0</td>\n",
       "      <td>1</td>\n",
       "      <td>1</td>\n",
       "      <td>0</td>\n",
       "      <td>0</td>\n",
       "      <td>0</td>\n",
       "      <td>0</td>\n",
       "      <td>0</td>\n",
       "      <td>...</td>\n",
       "      <td>0</td>\n",
       "      <td>0</td>\n",
       "      <td>0</td>\n",
       "      <td>0</td>\n",
       "      <td>0</td>\n",
       "      <td>0</td>\n",
       "      <td>0</td>\n",
       "      <td>0</td>\n",
       "      <td>0</td>\n",
       "      <td>1</td>\n",
       "    </tr>\n",
       "    <tr>\n",
       "      <th>4</th>\n",
       "      <td>0</td>\n",
       "      <td>0</td>\n",
       "      <td>0</td>\n",
       "      <td>1</td>\n",
       "      <td>1</td>\n",
       "      <td>0</td>\n",
       "      <td>0</td>\n",
       "      <td>0</td>\n",
       "      <td>0</td>\n",
       "      <td>0</td>\n",
       "      <td>...</td>\n",
       "      <td>0</td>\n",
       "      <td>0</td>\n",
       "      <td>0</td>\n",
       "      <td>0</td>\n",
       "      <td>0</td>\n",
       "      <td>0</td>\n",
       "      <td>0</td>\n",
       "      <td>1</td>\n",
       "      <td>0</td>\n",
       "      <td>0</td>\n",
       "    </tr>\n",
       "    <tr>\n",
       "      <th>...</th>\n",
       "      <td>...</td>\n",
       "      <td>...</td>\n",
       "      <td>...</td>\n",
       "      <td>...</td>\n",
       "      <td>...</td>\n",
       "      <td>...</td>\n",
       "      <td>...</td>\n",
       "      <td>...</td>\n",
       "      <td>...</td>\n",
       "      <td>...</td>\n",
       "      <td>...</td>\n",
       "      <td>...</td>\n",
       "      <td>...</td>\n",
       "      <td>...</td>\n",
       "      <td>...</td>\n",
       "      <td>...</td>\n",
       "      <td>...</td>\n",
       "      <td>...</td>\n",
       "      <td>...</td>\n",
       "      <td>...</td>\n",
       "      <td>...</td>\n",
       "    </tr>\n",
       "    <tr>\n",
       "      <th>9989</th>\n",
       "      <td>0</td>\n",
       "      <td>0</td>\n",
       "      <td>1</td>\n",
       "      <td>0</td>\n",
       "      <td>1</td>\n",
       "      <td>0</td>\n",
       "      <td>0</td>\n",
       "      <td>0</td>\n",
       "      <td>0</td>\n",
       "      <td>0</td>\n",
       "      <td>...</td>\n",
       "      <td>0</td>\n",
       "      <td>0</td>\n",
       "      <td>1</td>\n",
       "      <td>0</td>\n",
       "      <td>0</td>\n",
       "      <td>0</td>\n",
       "      <td>0</td>\n",
       "      <td>0</td>\n",
       "      <td>0</td>\n",
       "      <td>0</td>\n",
       "    </tr>\n",
       "    <tr>\n",
       "      <th>9990</th>\n",
       "      <td>0</td>\n",
       "      <td>0</td>\n",
       "      <td>0</td>\n",
       "      <td>1</td>\n",
       "      <td>1</td>\n",
       "      <td>0</td>\n",
       "      <td>0</td>\n",
       "      <td>0</td>\n",
       "      <td>0</td>\n",
       "      <td>0</td>\n",
       "      <td>...</td>\n",
       "      <td>0</td>\n",
       "      <td>0</td>\n",
       "      <td>1</td>\n",
       "      <td>0</td>\n",
       "      <td>0</td>\n",
       "      <td>0</td>\n",
       "      <td>0</td>\n",
       "      <td>0</td>\n",
       "      <td>0</td>\n",
       "      <td>0</td>\n",
       "    </tr>\n",
       "    <tr>\n",
       "      <th>9991</th>\n",
       "      <td>0</td>\n",
       "      <td>0</td>\n",
       "      <td>0</td>\n",
       "      <td>1</td>\n",
       "      <td>1</td>\n",
       "      <td>0</td>\n",
       "      <td>0</td>\n",
       "      <td>0</td>\n",
       "      <td>0</td>\n",
       "      <td>0</td>\n",
       "      <td>...</td>\n",
       "      <td>0</td>\n",
       "      <td>0</td>\n",
       "      <td>0</td>\n",
       "      <td>0</td>\n",
       "      <td>0</td>\n",
       "      <td>0</td>\n",
       "      <td>1</td>\n",
       "      <td>0</td>\n",
       "      <td>0</td>\n",
       "      <td>0</td>\n",
       "    </tr>\n",
       "    <tr>\n",
       "      <th>9992</th>\n",
       "      <td>0</td>\n",
       "      <td>0</td>\n",
       "      <td>0</td>\n",
       "      <td>1</td>\n",
       "      <td>1</td>\n",
       "      <td>0</td>\n",
       "      <td>0</td>\n",
       "      <td>0</td>\n",
       "      <td>0</td>\n",
       "      <td>0</td>\n",
       "      <td>...</td>\n",
       "      <td>0</td>\n",
       "      <td>0</td>\n",
       "      <td>0</td>\n",
       "      <td>0</td>\n",
       "      <td>0</td>\n",
       "      <td>1</td>\n",
       "      <td>0</td>\n",
       "      <td>0</td>\n",
       "      <td>0</td>\n",
       "      <td>0</td>\n",
       "    </tr>\n",
       "    <tr>\n",
       "      <th>9993</th>\n",
       "      <td>0</td>\n",
       "      <td>0</td>\n",
       "      <td>1</td>\n",
       "      <td>0</td>\n",
       "      <td>1</td>\n",
       "      <td>0</td>\n",
       "      <td>0</td>\n",
       "      <td>0</td>\n",
       "      <td>0</td>\n",
       "      <td>0</td>\n",
       "      <td>...</td>\n",
       "      <td>0</td>\n",
       "      <td>0</td>\n",
       "      <td>0</td>\n",
       "      <td>0</td>\n",
       "      <td>0</td>\n",
       "      <td>0</td>\n",
       "      <td>0</td>\n",
       "      <td>0</td>\n",
       "      <td>0</td>\n",
       "      <td>0</td>\n",
       "    </tr>\n",
       "  </tbody>\n",
       "</table>\n",
       "<p>9994 rows × 611 columns</p>\n",
       "</div>"
      ],
      "text/plain": [
       "      Ship Mode_First Class  Ship Mode_Same Day  Ship Mode_Second Class  \\\n",
       "0                         0                   0                       1   \n",
       "1                         0                   0                       1   \n",
       "2                         0                   0                       1   \n",
       "3                         0                   0                       0   \n",
       "4                         0                   0                       0   \n",
       "...                     ...                 ...                     ...   \n",
       "9989                      0                   0                       1   \n",
       "9990                      0                   0                       0   \n",
       "9991                      0                   0                       0   \n",
       "9992                      0                   0                       0   \n",
       "9993                      0                   0                       1   \n",
       "\n",
       "      Ship Mode_Standard Class  Segment_Consumer  Segment_Corporate  \\\n",
       "0                            0                 1                  0   \n",
       "1                            0                 1                  0   \n",
       "2                            0                 0                  1   \n",
       "3                            1                 1                  0   \n",
       "4                            1                 1                  0   \n",
       "...                        ...               ...                ...   \n",
       "9989                         0                 1                  0   \n",
       "9990                         1                 1                  0   \n",
       "9991                         1                 1                  0   \n",
       "9992                         1                 1                  0   \n",
       "9993                         0                 1                  0   \n",
       "\n",
       "      Segment_Home Office  City_Aberdeen  City_Abilene  City_Akron  ...  \\\n",
       "0                       0              0             0           0  ...   \n",
       "1                       0              0             0           0  ...   \n",
       "2                       0              0             0           0  ...   \n",
       "3                       0              0             0           0  ...   \n",
       "4                       0              0             0           0  ...   \n",
       "...                   ...            ...           ...         ...  ...   \n",
       "9989                    0              0             0           0  ...   \n",
       "9990                    0              0             0           0  ...   \n",
       "9991                    0              0             0           0  ...   \n",
       "9992                    0              0             0           0  ...   \n",
       "9993                    0              0             0           0  ...   \n",
       "\n",
       "      Sub-Category_Envelopes  Sub-Category_Fasteners  \\\n",
       "0                          0                       0   \n",
       "1                          0                       0   \n",
       "2                          0                       0   \n",
       "3                          0                       0   \n",
       "4                          0                       0   \n",
       "...                      ...                     ...   \n",
       "9989                       0                       0   \n",
       "9990                       0                       0   \n",
       "9991                       0                       0   \n",
       "9992                       0                       0   \n",
       "9993                       0                       0   \n",
       "\n",
       "      Sub-Category_Furnishings  Sub-Category_Labels  Sub-Category_Machines  \\\n",
       "0                            0                    0                      0   \n",
       "1                            0                    0                      0   \n",
       "2                            0                    1                      0   \n",
       "3                            0                    0                      0   \n",
       "4                            0                    0                      0   \n",
       "...                        ...                  ...                    ...   \n",
       "9989                         1                    0                      0   \n",
       "9990                         1                    0                      0   \n",
       "9991                         0                    0                      0   \n",
       "9992                         0                    0                      0   \n",
       "9993                         0                    0                      0   \n",
       "\n",
       "      Sub-Category_Paper  Sub-Category_Phones  Sub-Category_Storage  \\\n",
       "0                      0                    0                     0   \n",
       "1                      0                    0                     0   \n",
       "2                      0                    0                     0   \n",
       "3                      0                    0                     0   \n",
       "4                      0                    0                     1   \n",
       "...                  ...                  ...                   ...   \n",
       "9989                   0                    0                     0   \n",
       "9990                   0                    0                     0   \n",
       "9991                   0                    1                     0   \n",
       "9992                   1                    0                     0   \n",
       "9993                   0                    0                     0   \n",
       "\n",
       "      Sub-Category_Supplies  Sub-Category_Tables  \n",
       "0                         0                    0  \n",
       "1                         0                    0  \n",
       "2                         0                    0  \n",
       "3                         0                    1  \n",
       "4                         0                    0  \n",
       "...                     ...                  ...  \n",
       "9989                      0                    0  \n",
       "9990                      0                    0  \n",
       "9991                      0                    0  \n",
       "9992                      0                    0  \n",
       "9993                      0                    0  \n",
       "\n",
       "[9994 rows x 611 columns]"
      ]
     },
     "execution_count": 48,
     "metadata": {},
     "output_type": "execute_result"
    }
   ],
   "source": [
    "cat_numerica=pd.get_dummies(categorica, drop_first=False) #True muestra menos columnas, False muestra valores por cada columna.\n",
    "cat_numerica"
   ]
  },
  {
   "cell_type": "markdown",
   "id": "cdc9f658",
   "metadata": {},
   "source": [
    "#### Con esto converti todas las variables en numericas, ahora debo unir todo el dataframe nuevamente para poder analizarlo, para eso hay que concatenar todos los datos."
   ]
  },
  {
   "cell_type": "code",
   "execution_count": 49,
   "id": "66a56106",
   "metadata": {},
   "outputs": [
    {
     "data": {
      "text/html": [
       "<div>\n",
       "<style scoped>\n",
       "    .dataframe tbody tr th:only-of-type {\n",
       "        vertical-align: middle;\n",
       "    }\n",
       "\n",
       "    .dataframe tbody tr th {\n",
       "        vertical-align: top;\n",
       "    }\n",
       "\n",
       "    .dataframe thead th {\n",
       "        text-align: right;\n",
       "    }\n",
       "</style>\n",
       "<table border=\"1\" class=\"dataframe\">\n",
       "  <thead>\n",
       "    <tr style=\"text-align: right;\">\n",
       "      <th></th>\n",
       "      <th>Sales</th>\n",
       "      <th>Quantity</th>\n",
       "      <th>Discount</th>\n",
       "      <th>Profit</th>\n",
       "      <th>Ship Mode_First Class</th>\n",
       "      <th>Ship Mode_Same Day</th>\n",
       "      <th>Ship Mode_Second Class</th>\n",
       "      <th>Ship Mode_Standard Class</th>\n",
       "      <th>Segment_Consumer</th>\n",
       "      <th>Segment_Corporate</th>\n",
       "      <th>...</th>\n",
       "      <th>Sub-Category_Envelopes</th>\n",
       "      <th>Sub-Category_Fasteners</th>\n",
       "      <th>Sub-Category_Furnishings</th>\n",
       "      <th>Sub-Category_Labels</th>\n",
       "      <th>Sub-Category_Machines</th>\n",
       "      <th>Sub-Category_Paper</th>\n",
       "      <th>Sub-Category_Phones</th>\n",
       "      <th>Sub-Category_Storage</th>\n",
       "      <th>Sub-Category_Supplies</th>\n",
       "      <th>Sub-Category_Tables</th>\n",
       "    </tr>\n",
       "  </thead>\n",
       "  <tbody>\n",
       "    <tr>\n",
       "      <th>0</th>\n",
       "      <td>261.9600</td>\n",
       "      <td>2</td>\n",
       "      <td>0.00</td>\n",
       "      <td>41.9136</td>\n",
       "      <td>0</td>\n",
       "      <td>0</td>\n",
       "      <td>1</td>\n",
       "      <td>0</td>\n",
       "      <td>1</td>\n",
       "      <td>0</td>\n",
       "      <td>...</td>\n",
       "      <td>0</td>\n",
       "      <td>0</td>\n",
       "      <td>0</td>\n",
       "      <td>0</td>\n",
       "      <td>0</td>\n",
       "      <td>0</td>\n",
       "      <td>0</td>\n",
       "      <td>0</td>\n",
       "      <td>0</td>\n",
       "      <td>0</td>\n",
       "    </tr>\n",
       "    <tr>\n",
       "      <th>1</th>\n",
       "      <td>731.9400</td>\n",
       "      <td>3</td>\n",
       "      <td>0.00</td>\n",
       "      <td>219.5820</td>\n",
       "      <td>0</td>\n",
       "      <td>0</td>\n",
       "      <td>1</td>\n",
       "      <td>0</td>\n",
       "      <td>1</td>\n",
       "      <td>0</td>\n",
       "      <td>...</td>\n",
       "      <td>0</td>\n",
       "      <td>0</td>\n",
       "      <td>0</td>\n",
       "      <td>0</td>\n",
       "      <td>0</td>\n",
       "      <td>0</td>\n",
       "      <td>0</td>\n",
       "      <td>0</td>\n",
       "      <td>0</td>\n",
       "      <td>0</td>\n",
       "    </tr>\n",
       "    <tr>\n",
       "      <th>2</th>\n",
       "      <td>14.6200</td>\n",
       "      <td>2</td>\n",
       "      <td>0.00</td>\n",
       "      <td>6.8714</td>\n",
       "      <td>0</td>\n",
       "      <td>0</td>\n",
       "      <td>1</td>\n",
       "      <td>0</td>\n",
       "      <td>0</td>\n",
       "      <td>1</td>\n",
       "      <td>...</td>\n",
       "      <td>0</td>\n",
       "      <td>0</td>\n",
       "      <td>0</td>\n",
       "      <td>1</td>\n",
       "      <td>0</td>\n",
       "      <td>0</td>\n",
       "      <td>0</td>\n",
       "      <td>0</td>\n",
       "      <td>0</td>\n",
       "      <td>0</td>\n",
       "    </tr>\n",
       "    <tr>\n",
       "      <th>3</th>\n",
       "      <td>957.5775</td>\n",
       "      <td>5</td>\n",
       "      <td>0.45</td>\n",
       "      <td>-383.0310</td>\n",
       "      <td>0</td>\n",
       "      <td>0</td>\n",
       "      <td>0</td>\n",
       "      <td>1</td>\n",
       "      <td>1</td>\n",
       "      <td>0</td>\n",
       "      <td>...</td>\n",
       "      <td>0</td>\n",
       "      <td>0</td>\n",
       "      <td>0</td>\n",
       "      <td>0</td>\n",
       "      <td>0</td>\n",
       "      <td>0</td>\n",
       "      <td>0</td>\n",
       "      <td>0</td>\n",
       "      <td>0</td>\n",
       "      <td>1</td>\n",
       "    </tr>\n",
       "    <tr>\n",
       "      <th>4</th>\n",
       "      <td>22.3680</td>\n",
       "      <td>2</td>\n",
       "      <td>0.20</td>\n",
       "      <td>2.5164</td>\n",
       "      <td>0</td>\n",
       "      <td>0</td>\n",
       "      <td>0</td>\n",
       "      <td>1</td>\n",
       "      <td>1</td>\n",
       "      <td>0</td>\n",
       "      <td>...</td>\n",
       "      <td>0</td>\n",
       "      <td>0</td>\n",
       "      <td>0</td>\n",
       "      <td>0</td>\n",
       "      <td>0</td>\n",
       "      <td>0</td>\n",
       "      <td>0</td>\n",
       "      <td>1</td>\n",
       "      <td>0</td>\n",
       "      <td>0</td>\n",
       "    </tr>\n",
       "    <tr>\n",
       "      <th>5</th>\n",
       "      <td>48.8600</td>\n",
       "      <td>7</td>\n",
       "      <td>0.00</td>\n",
       "      <td>14.1694</td>\n",
       "      <td>0</td>\n",
       "      <td>0</td>\n",
       "      <td>0</td>\n",
       "      <td>1</td>\n",
       "      <td>1</td>\n",
       "      <td>0</td>\n",
       "      <td>...</td>\n",
       "      <td>0</td>\n",
       "      <td>0</td>\n",
       "      <td>1</td>\n",
       "      <td>0</td>\n",
       "      <td>0</td>\n",
       "      <td>0</td>\n",
       "      <td>0</td>\n",
       "      <td>0</td>\n",
       "      <td>0</td>\n",
       "      <td>0</td>\n",
       "    </tr>\n",
       "    <tr>\n",
       "      <th>6</th>\n",
       "      <td>7.2800</td>\n",
       "      <td>4</td>\n",
       "      <td>0.00</td>\n",
       "      <td>1.9656</td>\n",
       "      <td>0</td>\n",
       "      <td>0</td>\n",
       "      <td>0</td>\n",
       "      <td>1</td>\n",
       "      <td>1</td>\n",
       "      <td>0</td>\n",
       "      <td>...</td>\n",
       "      <td>0</td>\n",
       "      <td>0</td>\n",
       "      <td>0</td>\n",
       "      <td>0</td>\n",
       "      <td>0</td>\n",
       "      <td>0</td>\n",
       "      <td>0</td>\n",
       "      <td>0</td>\n",
       "      <td>0</td>\n",
       "      <td>0</td>\n",
       "    </tr>\n",
       "    <tr>\n",
       "      <th>7</th>\n",
       "      <td>907.1520</td>\n",
       "      <td>6</td>\n",
       "      <td>0.20</td>\n",
       "      <td>90.7152</td>\n",
       "      <td>0</td>\n",
       "      <td>0</td>\n",
       "      <td>0</td>\n",
       "      <td>1</td>\n",
       "      <td>1</td>\n",
       "      <td>0</td>\n",
       "      <td>...</td>\n",
       "      <td>0</td>\n",
       "      <td>0</td>\n",
       "      <td>0</td>\n",
       "      <td>0</td>\n",
       "      <td>0</td>\n",
       "      <td>0</td>\n",
       "      <td>1</td>\n",
       "      <td>0</td>\n",
       "      <td>0</td>\n",
       "      <td>0</td>\n",
       "    </tr>\n",
       "    <tr>\n",
       "      <th>8</th>\n",
       "      <td>18.5040</td>\n",
       "      <td>3</td>\n",
       "      <td>0.20</td>\n",
       "      <td>5.7825</td>\n",
       "      <td>0</td>\n",
       "      <td>0</td>\n",
       "      <td>0</td>\n",
       "      <td>1</td>\n",
       "      <td>1</td>\n",
       "      <td>0</td>\n",
       "      <td>...</td>\n",
       "      <td>0</td>\n",
       "      <td>0</td>\n",
       "      <td>0</td>\n",
       "      <td>0</td>\n",
       "      <td>0</td>\n",
       "      <td>0</td>\n",
       "      <td>0</td>\n",
       "      <td>0</td>\n",
       "      <td>0</td>\n",
       "      <td>0</td>\n",
       "    </tr>\n",
       "    <tr>\n",
       "      <th>9</th>\n",
       "      <td>114.9000</td>\n",
       "      <td>5</td>\n",
       "      <td>0.00</td>\n",
       "      <td>34.4700</td>\n",
       "      <td>0</td>\n",
       "      <td>0</td>\n",
       "      <td>0</td>\n",
       "      <td>1</td>\n",
       "      <td>1</td>\n",
       "      <td>0</td>\n",
       "      <td>...</td>\n",
       "      <td>0</td>\n",
       "      <td>0</td>\n",
       "      <td>0</td>\n",
       "      <td>0</td>\n",
       "      <td>0</td>\n",
       "      <td>0</td>\n",
       "      <td>0</td>\n",
       "      <td>0</td>\n",
       "      <td>0</td>\n",
       "      <td>0</td>\n",
       "    </tr>\n",
       "    <tr>\n",
       "      <th>10</th>\n",
       "      <td>1706.1840</td>\n",
       "      <td>9</td>\n",
       "      <td>0.20</td>\n",
       "      <td>85.3092</td>\n",
       "      <td>0</td>\n",
       "      <td>0</td>\n",
       "      <td>0</td>\n",
       "      <td>1</td>\n",
       "      <td>1</td>\n",
       "      <td>0</td>\n",
       "      <td>...</td>\n",
       "      <td>0</td>\n",
       "      <td>0</td>\n",
       "      <td>0</td>\n",
       "      <td>0</td>\n",
       "      <td>0</td>\n",
       "      <td>0</td>\n",
       "      <td>0</td>\n",
       "      <td>0</td>\n",
       "      <td>0</td>\n",
       "      <td>1</td>\n",
       "    </tr>\n",
       "    <tr>\n",
       "      <th>11</th>\n",
       "      <td>911.4240</td>\n",
       "      <td>4</td>\n",
       "      <td>0.20</td>\n",
       "      <td>68.3568</td>\n",
       "      <td>0</td>\n",
       "      <td>0</td>\n",
       "      <td>0</td>\n",
       "      <td>1</td>\n",
       "      <td>1</td>\n",
       "      <td>0</td>\n",
       "      <td>...</td>\n",
       "      <td>0</td>\n",
       "      <td>0</td>\n",
       "      <td>0</td>\n",
       "      <td>0</td>\n",
       "      <td>0</td>\n",
       "      <td>0</td>\n",
       "      <td>1</td>\n",
       "      <td>0</td>\n",
       "      <td>0</td>\n",
       "      <td>0</td>\n",
       "    </tr>\n",
       "    <tr>\n",
       "      <th>12</th>\n",
       "      <td>15.5520</td>\n",
       "      <td>3</td>\n",
       "      <td>0.20</td>\n",
       "      <td>5.4432</td>\n",
       "      <td>0</td>\n",
       "      <td>0</td>\n",
       "      <td>0</td>\n",
       "      <td>1</td>\n",
       "      <td>1</td>\n",
       "      <td>0</td>\n",
       "      <td>...</td>\n",
       "      <td>0</td>\n",
       "      <td>0</td>\n",
       "      <td>0</td>\n",
       "      <td>0</td>\n",
       "      <td>0</td>\n",
       "      <td>1</td>\n",
       "      <td>0</td>\n",
       "      <td>0</td>\n",
       "      <td>0</td>\n",
       "      <td>0</td>\n",
       "    </tr>\n",
       "    <tr>\n",
       "      <th>13</th>\n",
       "      <td>407.9760</td>\n",
       "      <td>3</td>\n",
       "      <td>0.20</td>\n",
       "      <td>132.5922</td>\n",
       "      <td>0</td>\n",
       "      <td>0</td>\n",
       "      <td>0</td>\n",
       "      <td>1</td>\n",
       "      <td>1</td>\n",
       "      <td>0</td>\n",
       "      <td>...</td>\n",
       "      <td>0</td>\n",
       "      <td>0</td>\n",
       "      <td>0</td>\n",
       "      <td>0</td>\n",
       "      <td>0</td>\n",
       "      <td>0</td>\n",
       "      <td>0</td>\n",
       "      <td>0</td>\n",
       "      <td>0</td>\n",
       "      <td>0</td>\n",
       "    </tr>\n",
       "    <tr>\n",
       "      <th>14</th>\n",
       "      <td>68.8100</td>\n",
       "      <td>5</td>\n",
       "      <td>0.80</td>\n",
       "      <td>-123.8580</td>\n",
       "      <td>0</td>\n",
       "      <td>0</td>\n",
       "      <td>0</td>\n",
       "      <td>1</td>\n",
       "      <td>0</td>\n",
       "      <td>0</td>\n",
       "      <td>...</td>\n",
       "      <td>0</td>\n",
       "      <td>0</td>\n",
       "      <td>0</td>\n",
       "      <td>0</td>\n",
       "      <td>0</td>\n",
       "      <td>0</td>\n",
       "      <td>0</td>\n",
       "      <td>0</td>\n",
       "      <td>0</td>\n",
       "      <td>0</td>\n",
       "    </tr>\n",
       "    <tr>\n",
       "      <th>15</th>\n",
       "      <td>2.5440</td>\n",
       "      <td>3</td>\n",
       "      <td>0.80</td>\n",
       "      <td>-3.8160</td>\n",
       "      <td>0</td>\n",
       "      <td>0</td>\n",
       "      <td>0</td>\n",
       "      <td>1</td>\n",
       "      <td>0</td>\n",
       "      <td>0</td>\n",
       "      <td>...</td>\n",
       "      <td>0</td>\n",
       "      <td>0</td>\n",
       "      <td>0</td>\n",
       "      <td>0</td>\n",
       "      <td>0</td>\n",
       "      <td>0</td>\n",
       "      <td>0</td>\n",
       "      <td>0</td>\n",
       "      <td>0</td>\n",
       "      <td>0</td>\n",
       "    </tr>\n",
       "    <tr>\n",
       "      <th>16</th>\n",
       "      <td>665.8800</td>\n",
       "      <td>6</td>\n",
       "      <td>0.00</td>\n",
       "      <td>13.3176</td>\n",
       "      <td>0</td>\n",
       "      <td>0</td>\n",
       "      <td>0</td>\n",
       "      <td>1</td>\n",
       "      <td>1</td>\n",
       "      <td>0</td>\n",
       "      <td>...</td>\n",
       "      <td>0</td>\n",
       "      <td>0</td>\n",
       "      <td>0</td>\n",
       "      <td>0</td>\n",
       "      <td>0</td>\n",
       "      <td>0</td>\n",
       "      <td>0</td>\n",
       "      <td>1</td>\n",
       "      <td>0</td>\n",
       "      <td>0</td>\n",
       "    </tr>\n",
       "    <tr>\n",
       "      <th>17</th>\n",
       "      <td>55.5000</td>\n",
       "      <td>2</td>\n",
       "      <td>0.00</td>\n",
       "      <td>9.9900</td>\n",
       "      <td>0</td>\n",
       "      <td>0</td>\n",
       "      <td>1</td>\n",
       "      <td>0</td>\n",
       "      <td>1</td>\n",
       "      <td>0</td>\n",
       "      <td>...</td>\n",
       "      <td>0</td>\n",
       "      <td>0</td>\n",
       "      <td>0</td>\n",
       "      <td>0</td>\n",
       "      <td>0</td>\n",
       "      <td>0</td>\n",
       "      <td>0</td>\n",
       "      <td>1</td>\n",
       "      <td>0</td>\n",
       "      <td>0</td>\n",
       "    </tr>\n",
       "    <tr>\n",
       "      <th>18</th>\n",
       "      <td>8.5600</td>\n",
       "      <td>2</td>\n",
       "      <td>0.00</td>\n",
       "      <td>2.4824</td>\n",
       "      <td>0</td>\n",
       "      <td>0</td>\n",
       "      <td>1</td>\n",
       "      <td>0</td>\n",
       "      <td>1</td>\n",
       "      <td>0</td>\n",
       "      <td>...</td>\n",
       "      <td>0</td>\n",
       "      <td>0</td>\n",
       "      <td>0</td>\n",
       "      <td>0</td>\n",
       "      <td>0</td>\n",
       "      <td>0</td>\n",
       "      <td>0</td>\n",
       "      <td>0</td>\n",
       "      <td>0</td>\n",
       "      <td>0</td>\n",
       "    </tr>\n",
       "    <tr>\n",
       "      <th>19</th>\n",
       "      <td>213.4800</td>\n",
       "      <td>3</td>\n",
       "      <td>0.20</td>\n",
       "      <td>16.0110</td>\n",
       "      <td>0</td>\n",
       "      <td>0</td>\n",
       "      <td>1</td>\n",
       "      <td>0</td>\n",
       "      <td>1</td>\n",
       "      <td>0</td>\n",
       "      <td>...</td>\n",
       "      <td>0</td>\n",
       "      <td>0</td>\n",
       "      <td>0</td>\n",
       "      <td>0</td>\n",
       "      <td>0</td>\n",
       "      <td>0</td>\n",
       "      <td>1</td>\n",
       "      <td>0</td>\n",
       "      <td>0</td>\n",
       "      <td>0</td>\n",
       "    </tr>\n",
       "  </tbody>\n",
       "</table>\n",
       "<p>20 rows × 615 columns</p>\n",
       "</div>"
      ],
      "text/plain": [
       "        Sales  Quantity  Discount    Profit  Ship Mode_First Class  \\\n",
       "0    261.9600         2      0.00   41.9136                      0   \n",
       "1    731.9400         3      0.00  219.5820                      0   \n",
       "2     14.6200         2      0.00    6.8714                      0   \n",
       "3    957.5775         5      0.45 -383.0310                      0   \n",
       "4     22.3680         2      0.20    2.5164                      0   \n",
       "5     48.8600         7      0.00   14.1694                      0   \n",
       "6      7.2800         4      0.00    1.9656                      0   \n",
       "7    907.1520         6      0.20   90.7152                      0   \n",
       "8     18.5040         3      0.20    5.7825                      0   \n",
       "9    114.9000         5      0.00   34.4700                      0   \n",
       "10  1706.1840         9      0.20   85.3092                      0   \n",
       "11   911.4240         4      0.20   68.3568                      0   \n",
       "12    15.5520         3      0.20    5.4432                      0   \n",
       "13   407.9760         3      0.20  132.5922                      0   \n",
       "14    68.8100         5      0.80 -123.8580                      0   \n",
       "15     2.5440         3      0.80   -3.8160                      0   \n",
       "16   665.8800         6      0.00   13.3176                      0   \n",
       "17    55.5000         2      0.00    9.9900                      0   \n",
       "18     8.5600         2      0.00    2.4824                      0   \n",
       "19   213.4800         3      0.20   16.0110                      0   \n",
       "\n",
       "    Ship Mode_Same Day  Ship Mode_Second Class  Ship Mode_Standard Class  \\\n",
       "0                    0                       1                         0   \n",
       "1                    0                       1                         0   \n",
       "2                    0                       1                         0   \n",
       "3                    0                       0                         1   \n",
       "4                    0                       0                         1   \n",
       "5                    0                       0                         1   \n",
       "6                    0                       0                         1   \n",
       "7                    0                       0                         1   \n",
       "8                    0                       0                         1   \n",
       "9                    0                       0                         1   \n",
       "10                   0                       0                         1   \n",
       "11                   0                       0                         1   \n",
       "12                   0                       0                         1   \n",
       "13                   0                       0                         1   \n",
       "14                   0                       0                         1   \n",
       "15                   0                       0                         1   \n",
       "16                   0                       0                         1   \n",
       "17                   0                       1                         0   \n",
       "18                   0                       1                         0   \n",
       "19                   0                       1                         0   \n",
       "\n",
       "    Segment_Consumer  Segment_Corporate  ...  Sub-Category_Envelopes  \\\n",
       "0                  1                  0  ...                       0   \n",
       "1                  1                  0  ...                       0   \n",
       "2                  0                  1  ...                       0   \n",
       "3                  1                  0  ...                       0   \n",
       "4                  1                  0  ...                       0   \n",
       "5                  1                  0  ...                       0   \n",
       "6                  1                  0  ...                       0   \n",
       "7                  1                  0  ...                       0   \n",
       "8                  1                  0  ...                       0   \n",
       "9                  1                  0  ...                       0   \n",
       "10                 1                  0  ...                       0   \n",
       "11                 1                  0  ...                       0   \n",
       "12                 1                  0  ...                       0   \n",
       "13                 1                  0  ...                       0   \n",
       "14                 0                  0  ...                       0   \n",
       "15                 0                  0  ...                       0   \n",
       "16                 1                  0  ...                       0   \n",
       "17                 1                  0  ...                       0   \n",
       "18                 1                  0  ...                       0   \n",
       "19                 1                  0  ...                       0   \n",
       "\n",
       "    Sub-Category_Fasteners  Sub-Category_Furnishings  Sub-Category_Labels  \\\n",
       "0                        0                         0                    0   \n",
       "1                        0                         0                    0   \n",
       "2                        0                         0                    1   \n",
       "3                        0                         0                    0   \n",
       "4                        0                         0                    0   \n",
       "5                        0                         1                    0   \n",
       "6                        0                         0                    0   \n",
       "7                        0                         0                    0   \n",
       "8                        0                         0                    0   \n",
       "9                        0                         0                    0   \n",
       "10                       0                         0                    0   \n",
       "11                       0                         0                    0   \n",
       "12                       0                         0                    0   \n",
       "13                       0                         0                    0   \n",
       "14                       0                         0                    0   \n",
       "15                       0                         0                    0   \n",
       "16                       0                         0                    0   \n",
       "17                       0                         0                    0   \n",
       "18                       0                         0                    0   \n",
       "19                       0                         0                    0   \n",
       "\n",
       "    Sub-Category_Machines  Sub-Category_Paper  Sub-Category_Phones  \\\n",
       "0                       0                   0                    0   \n",
       "1                       0                   0                    0   \n",
       "2                       0                   0                    0   \n",
       "3                       0                   0                    0   \n",
       "4                       0                   0                    0   \n",
       "5                       0                   0                    0   \n",
       "6                       0                   0                    0   \n",
       "7                       0                   0                    1   \n",
       "8                       0                   0                    0   \n",
       "9                       0                   0                    0   \n",
       "10                      0                   0                    0   \n",
       "11                      0                   0                    1   \n",
       "12                      0                   1                    0   \n",
       "13                      0                   0                    0   \n",
       "14                      0                   0                    0   \n",
       "15                      0                   0                    0   \n",
       "16                      0                   0                    0   \n",
       "17                      0                   0                    0   \n",
       "18                      0                   0                    0   \n",
       "19                      0                   0                    1   \n",
       "\n",
       "    Sub-Category_Storage  Sub-Category_Supplies  Sub-Category_Tables  \n",
       "0                      0                      0                    0  \n",
       "1                      0                      0                    0  \n",
       "2                      0                      0                    0  \n",
       "3                      0                      0                    1  \n",
       "4                      1                      0                    0  \n",
       "5                      0                      0                    0  \n",
       "6                      0                      0                    0  \n",
       "7                      0                      0                    0  \n",
       "8                      0                      0                    0  \n",
       "9                      0                      0                    0  \n",
       "10                     0                      0                    1  \n",
       "11                     0                      0                    0  \n",
       "12                     0                      0                    0  \n",
       "13                     0                      0                    0  \n",
       "14                     0                      0                    0  \n",
       "15                     0                      0                    0  \n",
       "16                     1                      0                    0  \n",
       "17                     1                      0                    0  \n",
       "18                     0                      0                    0  \n",
       "19                     0                      0                    0  \n",
       "\n",
       "[20 rows x 615 columns]"
      ]
     },
     "execution_count": 49,
     "metadata": {},
     "output_type": "execute_result"
    }
   ],
   "source": [
    "df=pd.concat([numerica, cat_numerica], axis=1)\n",
    "df.head(20)"
   ]
  },
  {
   "cell_type": "code",
   "execution_count": 50,
   "id": "d61b39dd",
   "metadata": {},
   "outputs": [
    {
     "data": {
      "text/plain": [
       "Sales                    float64\n",
       "Quantity                   int64\n",
       "Discount                 float64\n",
       "Profit                   float64\n",
       "Ship Mode_First Class      uint8\n",
       "                          ...   \n",
       "Sub-Category_Paper         uint8\n",
       "Sub-Category_Phones        uint8\n",
       "Sub-Category_Storage       uint8\n",
       "Sub-Category_Supplies      uint8\n",
       "Sub-Category_Tables        uint8\n",
       "Length: 615, dtype: object"
      ]
     },
     "execution_count": 50,
     "metadata": {},
     "output_type": "execute_result"
    }
   ],
   "source": [
    "df.dtypes"
   ]
  },
  {
   "cell_type": "markdown",
   "id": "df04eb34",
   "metadata": {},
   "source": [
    "#### Ahora si una vez convertidos todos los valores a variables numericas, podemos aplicar los algoritmos sin errores por este motivo."
   ]
  },
  {
   "cell_type": "code",
   "execution_count": 54,
   "id": "4227eb31",
   "metadata": {},
   "outputs": [],
   "source": [
    "# Cargamos los datos y los dividimos en conjuntos para entrenar y testear.\n",
    "data = df\n",
    "y = data[\"Quantity\"]\n",
    "X = data.drop([\"Quantity\"], axis=1)\n",
    "(X_train, X_test,\n",
    " y_train, y_test) = train_test_split(X,\n",
    "                                     y,\n",
    "                                     test_size=0.33,\n",
    "                                     random_state=11)"
   ]
  },
  {
   "cell_type": "code",
   "execution_count": 68,
   "id": "8e3ba29e",
   "metadata": {},
   "outputs": [
    {
     "name": "stdout",
     "output_type": "stream",
     "text": [
      "La precisión del Arbol de decisión es de: 0.3088814792361322\n"
     ]
    }
   ],
   "source": [
    "# Primero creamos un arbol de decisión para ver la precisión y poder compararla\n",
    "tree = DecisionTreeClassifier(max_depth=6, random_state=11) # Max depth acorta el arbol si no salia muy grande.\n",
    "tree.fit(X_train, y_train)\n",
    "print(f\"La precisión del Arbol de decisión es de: {tree.score(X_test, y_test)}\")"
   ]
  },
  {
   "cell_type": "code",
   "execution_count": 69,
   "id": "444f1f47",
   "metadata": {},
   "outputs": [
    {
     "data": {
      "text/plain": [
       "DecisionTreeClassifier(max_depth=6, random_state=11)"
      ]
     },
     "execution_count": 69,
     "metadata": {},
     "output_type": "execute_result"
    }
   ],
   "source": [
    "tree.fit(X_train, y_train)"
   ]
  },
  {
   "cell_type": "code",
   "execution_count": 70,
   "id": "09203b32",
   "metadata": {},
   "outputs": [],
   "source": [
    "from sklearn.tree import plot_tree # Importamos para graficar el arbol de decisión.\n",
    "import matplotlib.pyplot as plt # Para manejar el tamaño del grafico del arbol."
   ]
  },
  {
   "cell_type": "markdown",
   "id": "0130d7ef",
   "metadata": {},
   "source": [
    "### A) Visualizando el modelo"
   ]
  },
  {
   "cell_type": "code",
   "execution_count": 71,
   "id": "7cf9b1f6",
   "metadata": {},
   "outputs": [
    {
     "data": {
      "text/plain": [
       "<Figure size 2016x720 with 0 Axes>"
      ]
     },
     "execution_count": 71,
     "metadata": {},
     "output_type": "execute_result"
    },
    {
     "data": {
      "image/png": "[encoded data removed]",
      "text/plain": [
       "<Figure size 432x288 with 1 Axes>"
      ]
     },
     "metadata": {},
     "output_type": "display_data"
    },
    {
     "data": {
      "text/plain": [
       "<Figure size 2016x720 with 0 Axes>"
      ]
     },
     "metadata": {},
     "output_type": "display_data"
    }
   ],
   "source": [
    "plot_tree(decision_tree=tree, feature_names=X_train.columns, filled=True, fontsize=6); # Feature=nombre de columnas, Filled=Para colorear el arbol, el punto y coma al final es para que no salga todo el texto del arbol de decision y solo el grafico\n",
    "plt.figure(figsize=(28,10))"
   ]
  },
  {
   "cell_type": "code",
   "execution_count": null,
   "id": "40688363",
   "metadata": {},
   "outputs": [],
   "source": []
  },
  {
   "cell_type": "code",
   "execution_count": null,
   "id": "e6002a3e",
   "metadata": {},
   "outputs": [],
   "source": []
  }
 ],
 "metadata": {
  "kernelspec": {
   "display_name": "Python 3",
   "language": "python",
   "name": "python3"
  },
  "language_info": {
   "codemirror_mode": {
    "name": "ipython",
    "version": 3
   },
   "file_extension": ".py",
   "mimetype": "text/x-python",
   "name": "python",
   "nbconvert_exporter": "python",
   "pygments_lexer": "ipython3",
   "version": "3.9.3"
  }
 },
 "nbformat": 4,
 "nbformat_minor": 5
}
